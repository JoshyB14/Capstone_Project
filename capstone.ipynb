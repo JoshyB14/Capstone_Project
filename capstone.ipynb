{
 "metadata": {
  "language_info": {
   "codemirror_mode": {
    "name": "ipython",
    "version": 3
   },
   "file_extension": ".py",
   "mimetype": "text/x-python",
   "name": "python",
   "nbconvert_exporter": "python",
   "pygments_lexer": "ipython3",
   "version": "3.7.10-final"
  },
  "orig_nbformat": 2,
  "kernelspec": {
   "name": "python3710jvsc74a57bd068defebf30e105fd598f0422c5fd98138979505923524d82e791ee03238adf52",
   "display_name": "Python 3.7.10 64-bit ('capstone': conda)"
  }
 },
 "nbformat": 4,
 "nbformat_minor": 2,
 "cells": [
  {
   "source": [
    "# HDAT Capstone Project"
   ],
   "cell_type": "markdown",
   "metadata": {}
  },
  {
   "source": [
    "## Research Question 1 - Mortality prediction in the ICU:\n",
    "\n",
    "#### Task - The task is to build a predictive algorithm using the techniques we learned in this course\n",
    "#### Objective - To assess the role of machine learning algorithms for predicting mortality by using the MIMIC-II dataset\n",
    "#### Question - Is it possible to accurately predict mortality based on data from the first 24 hours in ICU?\n",
    "#### Study population - MIMIC-II dataset"
   ],
   "cell_type": "markdown",
   "metadata": {}
  },
  {
   "source": [
    "## Research Question 2  - Weekend Effect in the ICU\n",
    "\n",
    "#### Task - The task is to investigate whether admission to ICU at the weekend increases the risk of ICU mortality \n",
    "#### Objective - To develop a statistical model to estimate the effect of weekend admission to ICU on the risk of mortality. \n",
    "#### Question - Does admission to ICU over the weekend increase the risk of mortality? \n",
    "#### Study population - MIMIC-II dataset"
   ],
   "cell_type": "markdown",
   "metadata": {}
  },
  {
   "source": [],
   "cell_type": "markdown",
   "metadata": {}
  },
  {
   "source": [
    "Notes about the datsets:\n",
    "\n",
    "1. Incorrect values - MIMIC-II was not collected for research and is a combination of two different electronic medical record systems (CareVue and Metavision). This increase the likelihood of inaccuracies in data entry and extraction.\n",
    "\n",
    "2. Missing data/sparseness: there is variation in the information recorded between patients due to different uses of the EMR (e.g. use of a separate system for recording lab results, or medications) across time, and the data being collected for clinical relevance rather than research.\n",
    "\n",
    "All patients have a unique identifying ID (subject_id), a hospital stay ID (hadm_id) and an ICU stay ID (icustay_id). These IDs can be used to identify readmissions to hospital and ICU."
   ],
   "cell_type": "markdown",
   "metadata": {}
  },
  {
   "source": [
    "# Imports"
   ],
   "cell_type": "markdown",
   "metadata": {}
  },
  {
   "cell_type": "code",
   "execution_count": 1,
   "metadata": {},
   "outputs": [],
   "source": [
    "import pandas as pd\n",
    "pd.set_option('display.max_columns', None) # show all columns\n",
    "import numpy as np \n",
    "import seaborn as sns\n",
    "sns.set_style(\"darkgrid\") # sets seaborn plot style guide\n",
    "import matplotlib.pyplot as plt \n"
   ]
  },
  {
   "cell_type": "code",
   "execution_count": 2,
   "metadata": {},
   "outputs": [],
   "source": [
    "# Define function to examine percentage of missing data by column\n",
    "def missing_data(df):\n",
    "    for column in df.columns:\n",
    "        print(f'Column {column}', f'has {100 * sum(df[column].isnull())/len(df):.2f}% missing data')\n",
    "        print()\n",
    "    return"
   ]
  },
  {
   "source": [
    "## Loading in datasets and merging "
   ],
   "cell_type": "markdown",
   "metadata": {}
  },
  {
   "cell_type": "code",
   "execution_count": 3,
   "metadata": {},
   "outputs": [
    {
     "output_type": "execute_result",
     "data": {
      "text/plain": [
       "   icustay_id  hadm_id  subject_id               intime              outtime  \\\n",
       "0      200001   152234       55973  2181-11-25 19:06:12  2181-11-28 20:59:25   \n",
       "1      200001   152234       55973  2181-11-25 19:06:12  2181-11-28 20:59:25   \n",
       "2      200001   152234       55973  2181-11-25 19:06:12  2181-11-28 20:59:25   \n",
       "3      200001   152234       55973  2181-11-25 19:06:12  2181-11-28 20:59:25   \n",
       "4      200001   152234       55973  2181-11-25 19:06:12  2181-11-28 20:59:25   \n",
       "\n",
       "             starttime              endtime    hr   dy  \n",
       "0  2181-11-24 19:06:12  2181-11-24 20:06:12 -24.0  0.0  \n",
       "1  2181-11-24 20:06:12  2181-11-24 21:06:12 -23.0  0.0  \n",
       "2  2181-11-24 21:06:12  2181-11-24 22:06:12 -22.0  0.0  \n",
       "3  2181-11-24 22:06:12  2181-11-24 23:06:12 -21.0  0.0  \n",
       "4  2181-11-24 23:06:12  2181-11-25 00:06:12 -20.0  0.0  "
      ],
      "text/html": "<div>\n<style scoped>\n    .dataframe tbody tr th:only-of-type {\n        vertical-align: middle;\n    }\n\n    .dataframe tbody tr th {\n        vertical-align: top;\n    }\n\n    .dataframe thead th {\n        text-align: right;\n    }\n</style>\n<table border=\"1\" class=\"dataframe\">\n  <thead>\n    <tr style=\"text-align: right;\">\n      <th></th>\n      <th>icustay_id</th>\n      <th>hadm_id</th>\n      <th>subject_id</th>\n      <th>intime</th>\n      <th>outtime</th>\n      <th>starttime</th>\n      <th>endtime</th>\n      <th>hr</th>\n      <th>dy</th>\n    </tr>\n  </thead>\n  <tbody>\n    <tr>\n      <th>0</th>\n      <td>200001</td>\n      <td>152234</td>\n      <td>55973</td>\n      <td>2181-11-25 19:06:12</td>\n      <td>2181-11-28 20:59:25</td>\n      <td>2181-11-24 19:06:12</td>\n      <td>2181-11-24 20:06:12</td>\n      <td>-24.0</td>\n      <td>0.0</td>\n    </tr>\n    <tr>\n      <th>1</th>\n      <td>200001</td>\n      <td>152234</td>\n      <td>55973</td>\n      <td>2181-11-25 19:06:12</td>\n      <td>2181-11-28 20:59:25</td>\n      <td>2181-11-24 20:06:12</td>\n      <td>2181-11-24 21:06:12</td>\n      <td>-23.0</td>\n      <td>0.0</td>\n    </tr>\n    <tr>\n      <th>2</th>\n      <td>200001</td>\n      <td>152234</td>\n      <td>55973</td>\n      <td>2181-11-25 19:06:12</td>\n      <td>2181-11-28 20:59:25</td>\n      <td>2181-11-24 21:06:12</td>\n      <td>2181-11-24 22:06:12</td>\n      <td>-22.0</td>\n      <td>0.0</td>\n    </tr>\n    <tr>\n      <th>3</th>\n      <td>200001</td>\n      <td>152234</td>\n      <td>55973</td>\n      <td>2181-11-25 19:06:12</td>\n      <td>2181-11-28 20:59:25</td>\n      <td>2181-11-24 22:06:12</td>\n      <td>2181-11-24 23:06:12</td>\n      <td>-21.0</td>\n      <td>0.0</td>\n    </tr>\n    <tr>\n      <th>4</th>\n      <td>200001</td>\n      <td>152234</td>\n      <td>55973</td>\n      <td>2181-11-25 19:06:12</td>\n      <td>2181-11-28 20:59:25</td>\n      <td>2181-11-24 23:06:12</td>\n      <td>2181-11-25 00:06:12</td>\n      <td>-20.0</td>\n      <td>0.0</td>\n    </tr>\n  </tbody>\n</table>\n</div>"
     },
     "metadata": {},
     "execution_count": 3
    }
   ],
   "source": [
    "# load in pt_stay_hr as the building block / master table\n",
    "pt_stay_hr = pd.read_csv('mimic_data/pt_stay_hr.csv')\n",
    "pt_stay_hr.head()"
   ]
  },
  {
   "cell_type": "code",
   "execution_count": 4,
   "metadata": {},
   "outputs": [
    {
     "output_type": "execute_result",
     "data": {
      "text/plain": [
       "   row_id  subject_id gender                  dob                  dod  \\\n",
       "0     234         249      F  2075-03-13 00:00:00                  NaN   \n",
       "1     235         250      F  2164-12-27 00:00:00  2188-11-22 00:00:00   \n",
       "2     236         251      M  2090-03-15 00:00:00                  NaN   \n",
       "3     237         252      M  2078-03-06 00:00:00                  NaN   \n",
       "4     238         253      F  2089-11-26 00:00:00                  NaN   \n",
       "\n",
       "              dod_hosp dod_ssn  expire_flag  \n",
       "0                  NaN     NaN            0  \n",
       "1  2188-11-22 00:00:00     NaN            1  \n",
       "2                  NaN     NaN            0  \n",
       "3                  NaN     NaN            0  \n",
       "4                  NaN     NaN            0  "
      ],
      "text/html": "<div>\n<style scoped>\n    .dataframe tbody tr th:only-of-type {\n        vertical-align: middle;\n    }\n\n    .dataframe tbody tr th {\n        vertical-align: top;\n    }\n\n    .dataframe thead th {\n        text-align: right;\n    }\n</style>\n<table border=\"1\" class=\"dataframe\">\n  <thead>\n    <tr style=\"text-align: right;\">\n      <th></th>\n      <th>row_id</th>\n      <th>subject_id</th>\n      <th>gender</th>\n      <th>dob</th>\n      <th>dod</th>\n      <th>dod_hosp</th>\n      <th>dod_ssn</th>\n      <th>expire_flag</th>\n    </tr>\n  </thead>\n  <tbody>\n    <tr>\n      <th>0</th>\n      <td>234</td>\n      <td>249</td>\n      <td>F</td>\n      <td>2075-03-13 00:00:00</td>\n      <td>NaN</td>\n      <td>NaN</td>\n      <td>NaN</td>\n      <td>0</td>\n    </tr>\n    <tr>\n      <th>1</th>\n      <td>235</td>\n      <td>250</td>\n      <td>F</td>\n      <td>2164-12-27 00:00:00</td>\n      <td>2188-11-22 00:00:00</td>\n      <td>2188-11-22 00:00:00</td>\n      <td>NaN</td>\n      <td>1</td>\n    </tr>\n    <tr>\n      <th>2</th>\n      <td>236</td>\n      <td>251</td>\n      <td>M</td>\n      <td>2090-03-15 00:00:00</td>\n      <td>NaN</td>\n      <td>NaN</td>\n      <td>NaN</td>\n      <td>0</td>\n    </tr>\n    <tr>\n      <th>3</th>\n      <td>237</td>\n      <td>252</td>\n      <td>M</td>\n      <td>2078-03-06 00:00:00</td>\n      <td>NaN</td>\n      <td>NaN</td>\n      <td>NaN</td>\n      <td>0</td>\n    </tr>\n    <tr>\n      <th>4</th>\n      <td>238</td>\n      <td>253</td>\n      <td>F</td>\n      <td>2089-11-26 00:00:00</td>\n      <td>NaN</td>\n      <td>NaN</td>\n      <td>NaN</td>\n      <td>0</td>\n    </tr>\n  </tbody>\n</table>\n</div>"
     },
     "metadata": {},
     "execution_count": 4
    }
   ],
   "source": [
    "patients = pd.read_csv('mimic_data/patients.csv') # https://mimic.physionet.org/mimictables/patients/\n",
    "# Table purpose: Defines each SUBJECT_ID in the database, i.e. defines a single patient\n",
    "# Links to: ADMISSIONS on SUBJECT_ID, ICUSTAYS on SUBJECT_ID\n",
    "patients.head()"
   ]
  },
  {
   "cell_type": "code",
   "execution_count": 5,
   "metadata": {},
   "outputs": [
    {
     "output_type": "execute_result",
     "data": {
      "text/plain": [
       "   subject_id gender                  dob\n",
       "0         249      F  2075-03-13 00:00:00\n",
       "1         250      F  2164-12-27 00:00:00\n",
       "2         251      M  2090-03-15 00:00:00\n",
       "3         252      M  2078-03-06 00:00:00\n",
       "4         253      F  2089-11-26 00:00:00"
      ],
      "text/html": "<div>\n<style scoped>\n    .dataframe tbody tr th:only-of-type {\n        vertical-align: middle;\n    }\n\n    .dataframe tbody tr th {\n        vertical-align: top;\n    }\n\n    .dataframe thead th {\n        text-align: right;\n    }\n</style>\n<table border=\"1\" class=\"dataframe\">\n  <thead>\n    <tr style=\"text-align: right;\">\n      <th></th>\n      <th>subject_id</th>\n      <th>gender</th>\n      <th>dob</th>\n    </tr>\n  </thead>\n  <tbody>\n    <tr>\n      <th>0</th>\n      <td>249</td>\n      <td>F</td>\n      <td>2075-03-13 00:00:00</td>\n    </tr>\n    <tr>\n      <th>1</th>\n      <td>250</td>\n      <td>F</td>\n      <td>2164-12-27 00:00:00</td>\n    </tr>\n    <tr>\n      <th>2</th>\n      <td>251</td>\n      <td>M</td>\n      <td>2090-03-15 00:00:00</td>\n    </tr>\n    <tr>\n      <th>3</th>\n      <td>252</td>\n      <td>M</td>\n      <td>2078-03-06 00:00:00</td>\n    </tr>\n    <tr>\n      <th>4</th>\n      <td>253</td>\n      <td>F</td>\n      <td>2089-11-26 00:00:00</td>\n    </tr>\n  </tbody>\n</table>\n</div>"
     },
     "metadata": {},
     "execution_count": 5
    }
   ],
   "source": [
    "# Select only columns of interest from patients\n",
    "patients = patients[['subject_id','gender','dob']]\n",
    "patients.head()"
   ]
  },
  {
   "cell_type": "code",
   "execution_count": 6,
   "metadata": {},
   "outputs": [
    {
     "output_type": "execute_result",
     "data": {
      "text/plain": [
       "   icustay_id  hadm_id  subject_id               intime              outtime  \\\n",
       "0      200001   152234       55973  2181-11-25 19:06:12  2181-11-28 20:59:25   \n",
       "1      200001   152234       55973  2181-11-25 19:06:12  2181-11-28 20:59:25   \n",
       "2      200001   152234       55973  2181-11-25 19:06:12  2181-11-28 20:59:25   \n",
       "3      200001   152234       55973  2181-11-25 19:06:12  2181-11-28 20:59:25   \n",
       "4      200001   152234       55973  2181-11-25 19:06:12  2181-11-28 20:59:25   \n",
       "\n",
       "             starttime              endtime    hr   dy gender  \\\n",
       "0  2181-11-24 19:06:12  2181-11-24 20:06:12 -24.0  0.0      F   \n",
       "1  2181-11-24 20:06:12  2181-11-24 21:06:12 -23.0  0.0      F   \n",
       "2  2181-11-24 21:06:12  2181-11-24 22:06:12 -22.0  0.0      F   \n",
       "3  2181-11-24 22:06:12  2181-11-24 23:06:12 -21.0  0.0      F   \n",
       "4  2181-11-24 23:06:12  2181-11-25 00:06:12 -20.0  0.0      F   \n",
       "\n",
       "                   dob  \n",
       "0  2120-10-31 00:00:00  \n",
       "1  2120-10-31 00:00:00  \n",
       "2  2120-10-31 00:00:00  \n",
       "3  2120-10-31 00:00:00  \n",
       "4  2120-10-31 00:00:00  "
      ],
      "text/html": "<div>\n<style scoped>\n    .dataframe tbody tr th:only-of-type {\n        vertical-align: middle;\n    }\n\n    .dataframe tbody tr th {\n        vertical-align: top;\n    }\n\n    .dataframe thead th {\n        text-align: right;\n    }\n</style>\n<table border=\"1\" class=\"dataframe\">\n  <thead>\n    <tr style=\"text-align: right;\">\n      <th></th>\n      <th>icustay_id</th>\n      <th>hadm_id</th>\n      <th>subject_id</th>\n      <th>intime</th>\n      <th>outtime</th>\n      <th>starttime</th>\n      <th>endtime</th>\n      <th>hr</th>\n      <th>dy</th>\n      <th>gender</th>\n      <th>dob</th>\n    </tr>\n  </thead>\n  <tbody>\n    <tr>\n      <th>0</th>\n      <td>200001</td>\n      <td>152234</td>\n      <td>55973</td>\n      <td>2181-11-25 19:06:12</td>\n      <td>2181-11-28 20:59:25</td>\n      <td>2181-11-24 19:06:12</td>\n      <td>2181-11-24 20:06:12</td>\n      <td>-24.0</td>\n      <td>0.0</td>\n      <td>F</td>\n      <td>2120-10-31 00:00:00</td>\n    </tr>\n    <tr>\n      <th>1</th>\n      <td>200001</td>\n      <td>152234</td>\n      <td>55973</td>\n      <td>2181-11-25 19:06:12</td>\n      <td>2181-11-28 20:59:25</td>\n      <td>2181-11-24 20:06:12</td>\n      <td>2181-11-24 21:06:12</td>\n      <td>-23.0</td>\n      <td>0.0</td>\n      <td>F</td>\n      <td>2120-10-31 00:00:00</td>\n    </tr>\n    <tr>\n      <th>2</th>\n      <td>200001</td>\n      <td>152234</td>\n      <td>55973</td>\n      <td>2181-11-25 19:06:12</td>\n      <td>2181-11-28 20:59:25</td>\n      <td>2181-11-24 21:06:12</td>\n      <td>2181-11-24 22:06:12</td>\n      <td>-22.0</td>\n      <td>0.0</td>\n      <td>F</td>\n      <td>2120-10-31 00:00:00</td>\n    </tr>\n    <tr>\n      <th>3</th>\n      <td>200001</td>\n      <td>152234</td>\n      <td>55973</td>\n      <td>2181-11-25 19:06:12</td>\n      <td>2181-11-28 20:59:25</td>\n      <td>2181-11-24 22:06:12</td>\n      <td>2181-11-24 23:06:12</td>\n      <td>-21.0</td>\n      <td>0.0</td>\n      <td>F</td>\n      <td>2120-10-31 00:00:00</td>\n    </tr>\n    <tr>\n      <th>4</th>\n      <td>200001</td>\n      <td>152234</td>\n      <td>55973</td>\n      <td>2181-11-25 19:06:12</td>\n      <td>2181-11-28 20:59:25</td>\n      <td>2181-11-24 23:06:12</td>\n      <td>2181-11-25 00:06:12</td>\n      <td>-20.0</td>\n      <td>0.0</td>\n      <td>F</td>\n      <td>2120-10-31 00:00:00</td>\n    </tr>\n  </tbody>\n</table>\n</div>"
     },
     "metadata": {},
     "execution_count": 6
    }
   ],
   "source": [
    "# Merge pt_stay_hr and patients to master table on subject_id\n",
    "\n",
    "master = pd.merge(pt_stay_hr, patients, on='subject_id')\n",
    "master.head()\n",
    "# intime + outtime = ICU in and out times\n",
    "# hr starts from -24 = 24 hrs before admission\n",
    "# dy days in ICU\n",
    "# starttime and endtime = start and end of each hr interval"
   ]
  },
  {
   "cell_type": "code",
   "execution_count": 7,
   "metadata": {},
   "outputs": [
    {
     "output_type": "stream",
     "name": "stdout",
     "text": [
      "Column icustay_id has 0.00% missing data\n",
      "\n",
      "Column hadm_id has 0.00% missing data\n",
      "\n",
      "Column subject_id has 0.00% missing data\n",
      "\n",
      "Column intime has 0.00% missing data\n",
      "\n",
      "Column outtime has 0.00% missing data\n",
      "\n",
      "Column starttime has 0.00% missing data\n",
      "\n",
      "Column endtime has 0.00% missing data\n",
      "\n",
      "Column hr has 0.00% missing data\n",
      "\n",
      "Column dy has 0.04% missing data\n",
      "\n",
      "Column gender has 0.00% missing data\n",
      "\n",
      "Column dob has 0.00% missing data\n",
      "\n"
     ]
    }
   ],
   "source": [
    "missing_data(master)"
   ]
  },
  {
   "cell_type": "code",
   "execution_count": 8,
   "metadata": {},
   "outputs": [
    {
     "output_type": "execute_result",
     "data": {
      "text/plain": [
       "   row_id  subject_id                  dob  hadm_id            admittime  \\\n",
       "0       1           2  2138-07-17 00:00:00   163353  2138-07-17 19:04:00   \n",
       "1       2           3  2025-04-11 00:00:00   145834  2101-10-20 19:08:00   \n",
       "2       3           4  2143-05-12 00:00:00   185777  2191-03-16 00:28:00   \n",
       "3       4           5  2103-02-02 00:00:00   178980  2103-02-02 04:31:00   \n",
       "4       5           6  2109-06-21 00:00:00   107064  2175-05-30 07:15:00   \n",
       "\n",
       "             dischtime  icustay_id  age_years               intime  \\\n",
       "0  2138-07-21 15:48:00      243653        0.0  2138-07-17 21:20:07   \n",
       "1  2101-10-31 13:58:00      211552       76.0  2101-10-20 19:10:11   \n",
       "2  2191-03-23 18:41:00      294638       47.0  2191-03-16 00:29:31   \n",
       "3  2103-02-04 12:15:00      214757        0.0  2103-02-02 06:04:24   \n",
       "4  2175-06-15 16:00:00      228232       65.0  2175-05-30 21:30:54   \n",
       "\n",
       "               outtime     los hosp_deathtime  icu_expire_flag  \\\n",
       "0  2138-07-17 23:32:21  0.0918            NaN                0   \n",
       "1  2101-10-26 20:43:09  6.0646            NaN                0   \n",
       "2  2191-03-17 16:46:31  1.6785            NaN                0   \n",
       "3  2103-02-02 08:06:00  0.0844            NaN                0   \n",
       "4  2175-06-03 13:39:54  3.6729            NaN                0   \n",
       "\n",
       "   hospital_expire_flag                  dod  expire_flag  ttd_days  \n",
       "0                   0.0                  NaN            0       NaN  \n",
       "1                   0.0  2102-06-14 00:00:00            1     236.0  \n",
       "2                   0.0                  NaN            0       NaN  \n",
       "3                   0.0                  NaN            0       NaN  \n",
       "4                   0.0                  NaN            0       NaN  "
      ],
      "text/html": "<div>\n<style scoped>\n    .dataframe tbody tr th:only-of-type {\n        vertical-align: middle;\n    }\n\n    .dataframe tbody tr th {\n        vertical-align: top;\n    }\n\n    .dataframe thead th {\n        text-align: right;\n    }\n</style>\n<table border=\"1\" class=\"dataframe\">\n  <thead>\n    <tr style=\"text-align: right;\">\n      <th></th>\n      <th>row_id</th>\n      <th>subject_id</th>\n      <th>dob</th>\n      <th>hadm_id</th>\n      <th>admittime</th>\n      <th>dischtime</th>\n      <th>icustay_id</th>\n      <th>age_years</th>\n      <th>intime</th>\n      <th>outtime</th>\n      <th>los</th>\n      <th>hosp_deathtime</th>\n      <th>icu_expire_flag</th>\n      <th>hospital_expire_flag</th>\n      <th>dod</th>\n      <th>expire_flag</th>\n      <th>ttd_days</th>\n    </tr>\n  </thead>\n  <tbody>\n    <tr>\n      <th>0</th>\n      <td>1</td>\n      <td>2</td>\n      <td>2138-07-17 00:00:00</td>\n      <td>163353</td>\n      <td>2138-07-17 19:04:00</td>\n      <td>2138-07-21 15:48:00</td>\n      <td>243653</td>\n      <td>0.0</td>\n      <td>2138-07-17 21:20:07</td>\n      <td>2138-07-17 23:32:21</td>\n      <td>0.0918</td>\n      <td>NaN</td>\n      <td>0</td>\n      <td>0.0</td>\n      <td>NaN</td>\n      <td>0</td>\n      <td>NaN</td>\n    </tr>\n    <tr>\n      <th>1</th>\n      <td>2</td>\n      <td>3</td>\n      <td>2025-04-11 00:00:00</td>\n      <td>145834</td>\n      <td>2101-10-20 19:08:00</td>\n      <td>2101-10-31 13:58:00</td>\n      <td>211552</td>\n      <td>76.0</td>\n      <td>2101-10-20 19:10:11</td>\n      <td>2101-10-26 20:43:09</td>\n      <td>6.0646</td>\n      <td>NaN</td>\n      <td>0</td>\n      <td>0.0</td>\n      <td>2102-06-14 00:00:00</td>\n      <td>1</td>\n      <td>236.0</td>\n    </tr>\n    <tr>\n      <th>2</th>\n      <td>3</td>\n      <td>4</td>\n      <td>2143-05-12 00:00:00</td>\n      <td>185777</td>\n      <td>2191-03-16 00:28:00</td>\n      <td>2191-03-23 18:41:00</td>\n      <td>294638</td>\n      <td>47.0</td>\n      <td>2191-03-16 00:29:31</td>\n      <td>2191-03-17 16:46:31</td>\n      <td>1.6785</td>\n      <td>NaN</td>\n      <td>0</td>\n      <td>0.0</td>\n      <td>NaN</td>\n      <td>0</td>\n      <td>NaN</td>\n    </tr>\n    <tr>\n      <th>3</th>\n      <td>4</td>\n      <td>5</td>\n      <td>2103-02-02 00:00:00</td>\n      <td>178980</td>\n      <td>2103-02-02 04:31:00</td>\n      <td>2103-02-04 12:15:00</td>\n      <td>214757</td>\n      <td>0.0</td>\n      <td>2103-02-02 06:04:24</td>\n      <td>2103-02-02 08:06:00</td>\n      <td>0.0844</td>\n      <td>NaN</td>\n      <td>0</td>\n      <td>0.0</td>\n      <td>NaN</td>\n      <td>0</td>\n      <td>NaN</td>\n    </tr>\n    <tr>\n      <th>4</th>\n      <td>5</td>\n      <td>6</td>\n      <td>2109-06-21 00:00:00</td>\n      <td>107064</td>\n      <td>2175-05-30 07:15:00</td>\n      <td>2175-06-15 16:00:00</td>\n      <td>228232</td>\n      <td>65.0</td>\n      <td>2175-05-30 21:30:54</td>\n      <td>2175-06-03 13:39:54</td>\n      <td>3.6729</td>\n      <td>NaN</td>\n      <td>0</td>\n      <td>0.0</td>\n      <td>NaN</td>\n      <td>0</td>\n      <td>NaN</td>\n    </tr>\n  </tbody>\n</table>\n</div>"
     },
     "metadata": {},
     "execution_count": 8
    }
   ],
   "source": [
    "# Load pt_icu_outcome dataset\n",
    "pt_icu_outcome = pd.read_csv('mimic_data/pt_icu_outcome.csv')\n",
    "pt_icu_outcome.head()"
   ]
  },
  {
   "cell_type": "code",
   "execution_count": 9,
   "metadata": {},
   "outputs": [
    {
     "output_type": "execute_result",
     "data": {
      "text/plain": [
       "   icustay_id  age_years     los  icu_expire_flag  ttd_days\n",
       "0      243653        0.0  0.0918                0       NaN\n",
       "1      211552       76.0  6.0646                0     236.0\n",
       "2      294638       47.0  1.6785                0       NaN\n",
       "3      214757        0.0  0.0844                0       NaN\n",
       "4      228232       65.0  3.6729                0       NaN"
      ],
      "text/html": "<div>\n<style scoped>\n    .dataframe tbody tr th:only-of-type {\n        vertical-align: middle;\n    }\n\n    .dataframe tbody tr th {\n        vertical-align: top;\n    }\n\n    .dataframe thead th {\n        text-align: right;\n    }\n</style>\n<table border=\"1\" class=\"dataframe\">\n  <thead>\n    <tr style=\"text-align: right;\">\n      <th></th>\n      <th>icustay_id</th>\n      <th>age_years</th>\n      <th>los</th>\n      <th>icu_expire_flag</th>\n      <th>ttd_days</th>\n    </tr>\n  </thead>\n  <tbody>\n    <tr>\n      <th>0</th>\n      <td>243653</td>\n      <td>0.0</td>\n      <td>0.0918</td>\n      <td>0</td>\n      <td>NaN</td>\n    </tr>\n    <tr>\n      <th>1</th>\n      <td>211552</td>\n      <td>76.0</td>\n      <td>6.0646</td>\n      <td>0</td>\n      <td>236.0</td>\n    </tr>\n    <tr>\n      <th>2</th>\n      <td>294638</td>\n      <td>47.0</td>\n      <td>1.6785</td>\n      <td>0</td>\n      <td>NaN</td>\n    </tr>\n    <tr>\n      <th>3</th>\n      <td>214757</td>\n      <td>0.0</td>\n      <td>0.0844</td>\n      <td>0</td>\n      <td>NaN</td>\n    </tr>\n    <tr>\n      <th>4</th>\n      <td>228232</td>\n      <td>65.0</td>\n      <td>3.6729</td>\n      <td>0</td>\n      <td>NaN</td>\n    </tr>\n  </tbody>\n</table>\n</div>"
     },
     "metadata": {},
     "execution_count": 9
    }
   ],
   "source": [
    "# Selecting only columns of interest from pt_icu\n",
    "pt_icu_outcome = pt_icu_outcome[['icustay_id','age_years','los','icu_expire_flag', 'ttd_days']]\n",
    "pt_icu_outcome.head()"
   ]
  },
  {
   "cell_type": "code",
   "execution_count": 10,
   "metadata": {},
   "outputs": [
    {
     "output_type": "execute_result",
     "data": {
      "text/plain": [
       "   icustay_id  hadm_id  subject_id               intime              outtime  \\\n",
       "0      200001   152234       55973  2181-11-25 19:06:12  2181-11-28 20:59:25   \n",
       "1      200001   152234       55973  2181-11-25 19:06:12  2181-11-28 20:59:25   \n",
       "2      200001   152234       55973  2181-11-25 19:06:12  2181-11-28 20:59:25   \n",
       "3      200001   152234       55973  2181-11-25 19:06:12  2181-11-28 20:59:25   \n",
       "4      200001   152234       55973  2181-11-25 19:06:12  2181-11-28 20:59:25   \n",
       "\n",
       "             starttime              endtime    hr   dy gender  \\\n",
       "0  2181-11-24 19:06:12  2181-11-24 20:06:12 -24.0  0.0      F   \n",
       "1  2181-11-24 20:06:12  2181-11-24 21:06:12 -23.0  0.0      F   \n",
       "2  2181-11-24 21:06:12  2181-11-24 22:06:12 -22.0  0.0      F   \n",
       "3  2181-11-24 22:06:12  2181-11-24 23:06:12 -21.0  0.0      F   \n",
       "4  2181-11-24 23:06:12  2181-11-25 00:06:12 -20.0  0.0      F   \n",
       "\n",
       "                   dob  age_years     los  icu_expire_flag  ttd_days  \n",
       "0  2120-10-31 00:00:00       61.0  3.0786                0     365.0  \n",
       "1  2120-10-31 00:00:00       61.0  3.0786                0     365.0  \n",
       "2  2120-10-31 00:00:00       61.0  3.0786                0     365.0  \n",
       "3  2120-10-31 00:00:00       61.0  3.0786                0     365.0  \n",
       "4  2120-10-31 00:00:00       61.0  3.0786                0     365.0  "
      ],
      "text/html": "<div>\n<style scoped>\n    .dataframe tbody tr th:only-of-type {\n        vertical-align: middle;\n    }\n\n    .dataframe tbody tr th {\n        vertical-align: top;\n    }\n\n    .dataframe thead th {\n        text-align: right;\n    }\n</style>\n<table border=\"1\" class=\"dataframe\">\n  <thead>\n    <tr style=\"text-align: right;\">\n      <th></th>\n      <th>icustay_id</th>\n      <th>hadm_id</th>\n      <th>subject_id</th>\n      <th>intime</th>\n      <th>outtime</th>\n      <th>starttime</th>\n      <th>endtime</th>\n      <th>hr</th>\n      <th>dy</th>\n      <th>gender</th>\n      <th>dob</th>\n      <th>age_years</th>\n      <th>los</th>\n      <th>icu_expire_flag</th>\n      <th>ttd_days</th>\n    </tr>\n  </thead>\n  <tbody>\n    <tr>\n      <th>0</th>\n      <td>200001</td>\n      <td>152234</td>\n      <td>55973</td>\n      <td>2181-11-25 19:06:12</td>\n      <td>2181-11-28 20:59:25</td>\n      <td>2181-11-24 19:06:12</td>\n      <td>2181-11-24 20:06:12</td>\n      <td>-24.0</td>\n      <td>0.0</td>\n      <td>F</td>\n      <td>2120-10-31 00:00:00</td>\n      <td>61.0</td>\n      <td>3.0786</td>\n      <td>0</td>\n      <td>365.0</td>\n    </tr>\n    <tr>\n      <th>1</th>\n      <td>200001</td>\n      <td>152234</td>\n      <td>55973</td>\n      <td>2181-11-25 19:06:12</td>\n      <td>2181-11-28 20:59:25</td>\n      <td>2181-11-24 20:06:12</td>\n      <td>2181-11-24 21:06:12</td>\n      <td>-23.0</td>\n      <td>0.0</td>\n      <td>F</td>\n      <td>2120-10-31 00:00:00</td>\n      <td>61.0</td>\n      <td>3.0786</td>\n      <td>0</td>\n      <td>365.0</td>\n    </tr>\n    <tr>\n      <th>2</th>\n      <td>200001</td>\n      <td>152234</td>\n      <td>55973</td>\n      <td>2181-11-25 19:06:12</td>\n      <td>2181-11-28 20:59:25</td>\n      <td>2181-11-24 21:06:12</td>\n      <td>2181-11-24 22:06:12</td>\n      <td>-22.0</td>\n      <td>0.0</td>\n      <td>F</td>\n      <td>2120-10-31 00:00:00</td>\n      <td>61.0</td>\n      <td>3.0786</td>\n      <td>0</td>\n      <td>365.0</td>\n    </tr>\n    <tr>\n      <th>3</th>\n      <td>200001</td>\n      <td>152234</td>\n      <td>55973</td>\n      <td>2181-11-25 19:06:12</td>\n      <td>2181-11-28 20:59:25</td>\n      <td>2181-11-24 22:06:12</td>\n      <td>2181-11-24 23:06:12</td>\n      <td>-21.0</td>\n      <td>0.0</td>\n      <td>F</td>\n      <td>2120-10-31 00:00:00</td>\n      <td>61.0</td>\n      <td>3.0786</td>\n      <td>0</td>\n      <td>365.0</td>\n    </tr>\n    <tr>\n      <th>4</th>\n      <td>200001</td>\n      <td>152234</td>\n      <td>55973</td>\n      <td>2181-11-25 19:06:12</td>\n      <td>2181-11-28 20:59:25</td>\n      <td>2181-11-24 23:06:12</td>\n      <td>2181-11-25 00:06:12</td>\n      <td>-20.0</td>\n      <td>0.0</td>\n      <td>F</td>\n      <td>2120-10-31 00:00:00</td>\n      <td>61.0</td>\n      <td>3.0786</td>\n      <td>0</td>\n      <td>365.0</td>\n    </tr>\n  </tbody>\n</table>\n</div>"
     },
     "metadata": {},
     "execution_count": 10
    }
   ],
   "source": [
    "# Left join the master table with our selected variables from pt_icu_outcome on the icustay_id\n",
    "master = pd.merge(master, pt_icu_outcome, on='icustay_id', how='left')\n",
    "master.head()"
   ]
  },
  {
   "cell_type": "code",
   "execution_count": 11,
   "metadata": {},
   "outputs": [
    {
     "output_type": "stream",
     "name": "stdout",
     "text": [
      "Column icustay_id has 0.00% missing data\n",
      "\n",
      "Column hadm_id has 0.00% missing data\n",
      "\n",
      "Column subject_id has 0.00% missing data\n",
      "\n",
      "Column intime has 0.00% missing data\n",
      "\n",
      "Column outtime has 0.00% missing data\n",
      "\n",
      "Column starttime has 0.00% missing data\n",
      "\n",
      "Column endtime has 0.00% missing data\n",
      "\n",
      "Column hr has 0.00% missing data\n",
      "\n",
      "Column dy has 0.04% missing data\n",
      "\n",
      "Column gender has 0.00% missing data\n",
      "\n",
      "Column dob has 0.00% missing data\n",
      "\n",
      "Column age_years has 0.00% missing data\n",
      "\n",
      "Column los has 0.00% missing data\n",
      "\n",
      "Column icu_expire_flag has 0.00% missing data\n",
      "\n",
      "Column ttd_days has 59.25% missing data\n",
      "\n"
     ]
    }
   ],
   "source": [
    "missing_data(master)"
   ]
  },
  {
   "cell_type": "code",
   "execution_count": 12,
   "metadata": {},
   "outputs": [
    {
     "output_type": "execute_result",
     "data": {
      "text/plain": [
       "   icustay_id  hr  gcs  gcseyes  gcsmotor  gcsverbal  endotrachflag\n",
       "0      200001   0   15      4.0       6.0        5.0              0\n",
       "1      200001   4   15      4.0       6.0        5.0              0\n",
       "2      200001  11   15      4.0       6.0        5.0              0\n",
       "3      200001  13   15      4.0       6.0        5.0              0\n",
       "4      200001  16   14      3.0       6.0        5.0              0"
      ],
      "text/html": "<div>\n<style scoped>\n    .dataframe tbody tr th:only-of-type {\n        vertical-align: middle;\n    }\n\n    .dataframe tbody tr th {\n        vertical-align: top;\n    }\n\n    .dataframe thead th {\n        text-align: right;\n    }\n</style>\n<table border=\"1\" class=\"dataframe\">\n  <thead>\n    <tr style=\"text-align: right;\">\n      <th></th>\n      <th>icustay_id</th>\n      <th>hr</th>\n      <th>gcs</th>\n      <th>gcseyes</th>\n      <th>gcsmotor</th>\n      <th>gcsverbal</th>\n      <th>endotrachflag</th>\n    </tr>\n  </thead>\n  <tbody>\n    <tr>\n      <th>0</th>\n      <td>200001</td>\n      <td>0</td>\n      <td>15</td>\n      <td>4.0</td>\n      <td>6.0</td>\n      <td>5.0</td>\n      <td>0</td>\n    </tr>\n    <tr>\n      <th>1</th>\n      <td>200001</td>\n      <td>4</td>\n      <td>15</td>\n      <td>4.0</td>\n      <td>6.0</td>\n      <td>5.0</td>\n      <td>0</td>\n    </tr>\n    <tr>\n      <th>2</th>\n      <td>200001</td>\n      <td>11</td>\n      <td>15</td>\n      <td>4.0</td>\n      <td>6.0</td>\n      <td>5.0</td>\n      <td>0</td>\n    </tr>\n    <tr>\n      <th>3</th>\n      <td>200001</td>\n      <td>13</td>\n      <td>15</td>\n      <td>4.0</td>\n      <td>6.0</td>\n      <td>5.0</td>\n      <td>0</td>\n    </tr>\n    <tr>\n      <th>4</th>\n      <td>200001</td>\n      <td>16</td>\n      <td>14</td>\n      <td>3.0</td>\n      <td>6.0</td>\n      <td>5.0</td>\n      <td>0</td>\n    </tr>\n  </tbody>\n</table>\n</div>"
     },
     "metadata": {},
     "execution_count": 12
    }
   ],
   "source": [
    "# Load in gcs_hourly --> Glasgow Coma Score\n",
    "gcs_hourly = pd.read_csv('mimic_data/gcs_hourly.csv')\n",
    "gcs_hourly.head()"
   ]
  },
  {
   "cell_type": "code",
   "execution_count": 13,
   "metadata": {},
   "outputs": [
    {
     "output_type": "execute_result",
     "data": {
      "text/plain": [
       "   icustay_id  hr  gcs  endotrachflag\n",
       "0      200001   0   15              0\n",
       "1      200001   4   15              0\n",
       "2      200001  11   15              0\n",
       "3      200001  13   15              0\n",
       "4      200001  16   14              0"
      ],
      "text/html": "<div>\n<style scoped>\n    .dataframe tbody tr th:only-of-type {\n        vertical-align: middle;\n    }\n\n    .dataframe tbody tr th {\n        vertical-align: top;\n    }\n\n    .dataframe thead th {\n        text-align: right;\n    }\n</style>\n<table border=\"1\" class=\"dataframe\">\n  <thead>\n    <tr style=\"text-align: right;\">\n      <th></th>\n      <th>icustay_id</th>\n      <th>hr</th>\n      <th>gcs</th>\n      <th>endotrachflag</th>\n    </tr>\n  </thead>\n  <tbody>\n    <tr>\n      <th>0</th>\n      <td>200001</td>\n      <td>0</td>\n      <td>15</td>\n      <td>0</td>\n    </tr>\n    <tr>\n      <th>1</th>\n      <td>200001</td>\n      <td>4</td>\n      <td>15</td>\n      <td>0</td>\n    </tr>\n    <tr>\n      <th>2</th>\n      <td>200001</td>\n      <td>11</td>\n      <td>15</td>\n      <td>0</td>\n    </tr>\n    <tr>\n      <th>3</th>\n      <td>200001</td>\n      <td>13</td>\n      <td>15</td>\n      <td>0</td>\n    </tr>\n    <tr>\n      <th>4</th>\n      <td>200001</td>\n      <td>16</td>\n      <td>14</td>\n      <td>0</td>\n    </tr>\n  </tbody>\n</table>\n</div>"
     },
     "metadata": {},
     "execution_count": 13
    }
   ],
   "source": [
    "# Select variables of interest --> gcs (overall score) and endotrachflag (endotracheal tube) + hr and icustay_id for linkage\n",
    "gcs_hourly = gcs_hourly[['icustay_id', 'hr', 'gcs', 'endotrachflag']]\n",
    "gcs_hourly.head()"
   ]
  },
  {
   "cell_type": "code",
   "execution_count": 14,
   "metadata": {},
   "outputs": [
    {
     "output_type": "execute_result",
     "data": {
      "text/plain": [
       "   icustay_id  hadm_id  subject_id               intime              outtime  \\\n",
       "0      200001   152234       55973  2181-11-25 19:06:12  2181-11-28 20:59:25   \n",
       "1      200001   152234       55973  2181-11-25 19:06:12  2181-11-28 20:59:25   \n",
       "2      200001   152234       55973  2181-11-25 19:06:12  2181-11-28 20:59:25   \n",
       "3      200001   152234       55973  2181-11-25 19:06:12  2181-11-28 20:59:25   \n",
       "4      200001   152234       55973  2181-11-25 19:06:12  2181-11-28 20:59:25   \n",
       "\n",
       "             starttime              endtime    hr   dy gender  \\\n",
       "0  2181-11-24 19:06:12  2181-11-24 20:06:12 -24.0  0.0      F   \n",
       "1  2181-11-24 20:06:12  2181-11-24 21:06:12 -23.0  0.0      F   \n",
       "2  2181-11-24 21:06:12  2181-11-24 22:06:12 -22.0  0.0      F   \n",
       "3  2181-11-24 22:06:12  2181-11-24 23:06:12 -21.0  0.0      F   \n",
       "4  2181-11-24 23:06:12  2181-11-25 00:06:12 -20.0  0.0      F   \n",
       "\n",
       "                   dob  age_years     los  icu_expire_flag  ttd_days  gcs  \\\n",
       "0  2120-10-31 00:00:00       61.0  3.0786                0     365.0  NaN   \n",
       "1  2120-10-31 00:00:00       61.0  3.0786                0     365.0  NaN   \n",
       "2  2120-10-31 00:00:00       61.0  3.0786                0     365.0  NaN   \n",
       "3  2120-10-31 00:00:00       61.0  3.0786                0     365.0  NaN   \n",
       "4  2120-10-31 00:00:00       61.0  3.0786                0     365.0  NaN   \n",
       "\n",
       "   endotrachflag  \n",
       "0            NaN  \n",
       "1            NaN  \n",
       "2            NaN  \n",
       "3            NaN  \n",
       "4            NaN  "
      ],
      "text/html": "<div>\n<style scoped>\n    .dataframe tbody tr th:only-of-type {\n        vertical-align: middle;\n    }\n\n    .dataframe tbody tr th {\n        vertical-align: top;\n    }\n\n    .dataframe thead th {\n        text-align: right;\n    }\n</style>\n<table border=\"1\" class=\"dataframe\">\n  <thead>\n    <tr style=\"text-align: right;\">\n      <th></th>\n      <th>icustay_id</th>\n      <th>hadm_id</th>\n      <th>subject_id</th>\n      <th>intime</th>\n      <th>outtime</th>\n      <th>starttime</th>\n      <th>endtime</th>\n      <th>hr</th>\n      <th>dy</th>\n      <th>gender</th>\n      <th>dob</th>\n      <th>age_years</th>\n      <th>los</th>\n      <th>icu_expire_flag</th>\n      <th>ttd_days</th>\n      <th>gcs</th>\n      <th>endotrachflag</th>\n    </tr>\n  </thead>\n  <tbody>\n    <tr>\n      <th>0</th>\n      <td>200001</td>\n      <td>152234</td>\n      <td>55973</td>\n      <td>2181-11-25 19:06:12</td>\n      <td>2181-11-28 20:59:25</td>\n      <td>2181-11-24 19:06:12</td>\n      <td>2181-11-24 20:06:12</td>\n      <td>-24.0</td>\n      <td>0.0</td>\n      <td>F</td>\n      <td>2120-10-31 00:00:00</td>\n      <td>61.0</td>\n      <td>3.0786</td>\n      <td>0</td>\n      <td>365.0</td>\n      <td>NaN</td>\n      <td>NaN</td>\n    </tr>\n    <tr>\n      <th>1</th>\n      <td>200001</td>\n      <td>152234</td>\n      <td>55973</td>\n      <td>2181-11-25 19:06:12</td>\n      <td>2181-11-28 20:59:25</td>\n      <td>2181-11-24 20:06:12</td>\n      <td>2181-11-24 21:06:12</td>\n      <td>-23.0</td>\n      <td>0.0</td>\n      <td>F</td>\n      <td>2120-10-31 00:00:00</td>\n      <td>61.0</td>\n      <td>3.0786</td>\n      <td>0</td>\n      <td>365.0</td>\n      <td>NaN</td>\n      <td>NaN</td>\n    </tr>\n    <tr>\n      <th>2</th>\n      <td>200001</td>\n      <td>152234</td>\n      <td>55973</td>\n      <td>2181-11-25 19:06:12</td>\n      <td>2181-11-28 20:59:25</td>\n      <td>2181-11-24 21:06:12</td>\n      <td>2181-11-24 22:06:12</td>\n      <td>-22.0</td>\n      <td>0.0</td>\n      <td>F</td>\n      <td>2120-10-31 00:00:00</td>\n      <td>61.0</td>\n      <td>3.0786</td>\n      <td>0</td>\n      <td>365.0</td>\n      <td>NaN</td>\n      <td>NaN</td>\n    </tr>\n    <tr>\n      <th>3</th>\n      <td>200001</td>\n      <td>152234</td>\n      <td>55973</td>\n      <td>2181-11-25 19:06:12</td>\n      <td>2181-11-28 20:59:25</td>\n      <td>2181-11-24 22:06:12</td>\n      <td>2181-11-24 23:06:12</td>\n      <td>-21.0</td>\n      <td>0.0</td>\n      <td>F</td>\n      <td>2120-10-31 00:00:00</td>\n      <td>61.0</td>\n      <td>3.0786</td>\n      <td>0</td>\n      <td>365.0</td>\n      <td>NaN</td>\n      <td>NaN</td>\n    </tr>\n    <tr>\n      <th>4</th>\n      <td>200001</td>\n      <td>152234</td>\n      <td>55973</td>\n      <td>2181-11-25 19:06:12</td>\n      <td>2181-11-28 20:59:25</td>\n      <td>2181-11-24 23:06:12</td>\n      <td>2181-11-25 00:06:12</td>\n      <td>-20.0</td>\n      <td>0.0</td>\n      <td>F</td>\n      <td>2120-10-31 00:00:00</td>\n      <td>61.0</td>\n      <td>3.0786</td>\n      <td>0</td>\n      <td>365.0</td>\n      <td>NaN</td>\n      <td>NaN</td>\n    </tr>\n  </tbody>\n</table>\n</div>"
     },
     "metadata": {},
     "execution_count": 14
    }
   ],
   "source": [
    "master = pd.merge(master, gcs_hourly, how='left', on=['icustay_id','hr'])\n",
    "master.head()"
   ]
  },
  {
   "cell_type": "code",
   "execution_count": 15,
   "metadata": {},
   "outputs": [
    {
     "output_type": "stream",
     "name": "stdout",
     "text": [
      "Column icustay_id has 0.00% missing data\n",
      "\n",
      "Column hadm_id has 0.00% missing data\n",
      "\n",
      "Column subject_id has 0.00% missing data\n",
      "\n",
      "Column intime has 0.00% missing data\n",
      "\n",
      "Column outtime has 0.00% missing data\n",
      "\n",
      "Column starttime has 0.00% missing data\n",
      "\n",
      "Column endtime has 0.00% missing data\n",
      "\n",
      "Column hr has 0.00% missing data\n",
      "\n",
      "Column dy has 0.04% missing data\n",
      "\n",
      "Column gender has 0.00% missing data\n",
      "\n",
      "Column dob has 0.00% missing data\n",
      "\n",
      "Column age_years has 0.00% missing data\n",
      "\n",
      "Column los has 0.00% missing data\n",
      "\n",
      "Column icu_expire_flag has 0.00% missing data\n",
      "\n",
      "Column ttd_days has 59.25% missing data\n",
      "\n",
      "Column gcs has 82.80% missing data\n",
      "\n",
      "Column endotrachflag has 82.80% missing data\n",
      "\n"
     ]
    }
   ],
   "source": [
    "missing_data(master)"
   ]
  },
  {
   "cell_type": "code",
   "execution_count": 16,
   "metadata": {},
   "outputs": [
    {
     "output_type": "execute_result",
     "data": {
      "text/plain": [
       "   icustay_id  hr   spo2  fio2  temperature  resprate  heartrate  sysbp  \\\n",
       "0      200001   1   98.0   NaN          NaN      18.0      108.0  113.0   \n",
       "1      200001   2   98.0   NaN          NaN      27.0      110.0  116.0   \n",
       "2      200001   3   99.8   NaN    37.666667      21.0      102.0  102.0   \n",
       "3      200001   4   94.0   NaN          NaN      19.0      108.0  103.0   \n",
       "4      200001   5  100.0  35.0          NaN      28.0      104.0  106.0   \n",
       "\n",
       "   diasbp  glucose  meanarterialpressure  \n",
       "0    68.0      NaN                  79.0  \n",
       "1    68.0    118.0                  79.0  \n",
       "2    61.0      NaN                  71.0  \n",
       "3    58.0      NaN                  69.0  \n",
       "4    62.0      NaN                  73.0  "
      ],
      "text/html": "<div>\n<style scoped>\n    .dataframe tbody tr th:only-of-type {\n        vertical-align: middle;\n    }\n\n    .dataframe tbody tr th {\n        vertical-align: top;\n    }\n\n    .dataframe thead th {\n        text-align: right;\n    }\n</style>\n<table border=\"1\" class=\"dataframe\">\n  <thead>\n    <tr style=\"text-align: right;\">\n      <th></th>\n      <th>icustay_id</th>\n      <th>hr</th>\n      <th>spo2</th>\n      <th>fio2</th>\n      <th>temperature</th>\n      <th>resprate</th>\n      <th>heartrate</th>\n      <th>sysbp</th>\n      <th>diasbp</th>\n      <th>glucose</th>\n      <th>meanarterialpressure</th>\n    </tr>\n  </thead>\n  <tbody>\n    <tr>\n      <th>0</th>\n      <td>200001</td>\n      <td>1</td>\n      <td>98.0</td>\n      <td>NaN</td>\n      <td>NaN</td>\n      <td>18.0</td>\n      <td>108.0</td>\n      <td>113.0</td>\n      <td>68.0</td>\n      <td>NaN</td>\n      <td>79.0</td>\n    </tr>\n    <tr>\n      <th>1</th>\n      <td>200001</td>\n      <td>2</td>\n      <td>98.0</td>\n      <td>NaN</td>\n      <td>NaN</td>\n      <td>27.0</td>\n      <td>110.0</td>\n      <td>116.0</td>\n      <td>68.0</td>\n      <td>118.0</td>\n      <td>79.0</td>\n    </tr>\n    <tr>\n      <th>2</th>\n      <td>200001</td>\n      <td>3</td>\n      <td>99.8</td>\n      <td>NaN</td>\n      <td>37.666667</td>\n      <td>21.0</td>\n      <td>102.0</td>\n      <td>102.0</td>\n      <td>61.0</td>\n      <td>NaN</td>\n      <td>71.0</td>\n    </tr>\n    <tr>\n      <th>3</th>\n      <td>200001</td>\n      <td>4</td>\n      <td>94.0</td>\n      <td>NaN</td>\n      <td>NaN</td>\n      <td>19.0</td>\n      <td>108.0</td>\n      <td>103.0</td>\n      <td>58.0</td>\n      <td>NaN</td>\n      <td>69.0</td>\n    </tr>\n    <tr>\n      <th>4</th>\n      <td>200001</td>\n      <td>5</td>\n      <td>100.0</td>\n      <td>35.0</td>\n      <td>NaN</td>\n      <td>28.0</td>\n      <td>104.0</td>\n      <td>106.0</td>\n      <td>62.0</td>\n      <td>NaN</td>\n      <td>73.0</td>\n    </tr>\n  </tbody>\n</table>\n</div>"
     },
     "metadata": {},
     "execution_count": 16
    }
   ],
   "source": [
    "# load in vitals_hourly dataset\n",
    "vitals_hourly = pd.read_csv('mimic_data/vitals_hourly.csv')\n",
    "vitals_hourly.head()"
   ]
  },
  {
   "cell_type": "code",
   "execution_count": 17,
   "metadata": {},
   "outputs": [
    {
     "output_type": "execute_result",
     "data": {
      "text/plain": [
       "   icustay_id  hr   spo2  heartrate  meanarterialpressure\n",
       "0      200001   1   98.0      108.0                  79.0\n",
       "1      200001   2   98.0      110.0                  79.0\n",
       "2      200001   3   99.8      102.0                  71.0\n",
       "3      200001   4   94.0      108.0                  69.0\n",
       "4      200001   5  100.0      104.0                  73.0"
      ],
      "text/html": "<div>\n<style scoped>\n    .dataframe tbody tr th:only-of-type {\n        vertical-align: middle;\n    }\n\n    .dataframe tbody tr th {\n        vertical-align: top;\n    }\n\n    .dataframe thead th {\n        text-align: right;\n    }\n</style>\n<table border=\"1\" class=\"dataframe\">\n  <thead>\n    <tr style=\"text-align: right;\">\n      <th></th>\n      <th>icustay_id</th>\n      <th>hr</th>\n      <th>spo2</th>\n      <th>heartrate</th>\n      <th>meanarterialpressure</th>\n    </tr>\n  </thead>\n  <tbody>\n    <tr>\n      <th>0</th>\n      <td>200001</td>\n      <td>1</td>\n      <td>98.0</td>\n      <td>108.0</td>\n      <td>79.0</td>\n    </tr>\n    <tr>\n      <th>1</th>\n      <td>200001</td>\n      <td>2</td>\n      <td>98.0</td>\n      <td>110.0</td>\n      <td>79.0</td>\n    </tr>\n    <tr>\n      <th>2</th>\n      <td>200001</td>\n      <td>3</td>\n      <td>99.8</td>\n      <td>102.0</td>\n      <td>71.0</td>\n    </tr>\n    <tr>\n      <th>3</th>\n      <td>200001</td>\n      <td>4</td>\n      <td>94.0</td>\n      <td>108.0</td>\n      <td>69.0</td>\n    </tr>\n    <tr>\n      <th>4</th>\n      <td>200001</td>\n      <td>5</td>\n      <td>100.0</td>\n      <td>104.0</td>\n      <td>73.0</td>\n    </tr>\n  </tbody>\n</table>\n</div>"
     },
     "metadata": {},
     "execution_count": 17
    }
   ],
   "source": [
    "# Extract variables of interest --> spo2, heartrate, meanarterialpressure + icustay_id and hr for linkage\n",
    "# spo2 chosen as there is little NA values over fio2 --> constantly monitored, low values are a sign of a serious failure in the respiratory system\n",
    "# heartrate can be an estimate of cardiovascular function and overall physiological function\n",
    "# mean arterial pressure (MAP) incorporates systolic and diastolic blood pressures into one measure and hence is quite useful for machine learning\n",
    "\n",
    "vitals_hourly = vitals_hourly[['icustay_id', 'hr', 'spo2', 'heartrate', 'meanarterialpressure']]\n",
    "vitals_hourly.head()"
   ]
  },
  {
   "cell_type": "code",
   "execution_count": 18,
   "metadata": {},
   "outputs": [
    {
     "output_type": "execute_result",
     "data": {
      "text/plain": [
       "   icustay_id  hadm_id  subject_id               intime              outtime  \\\n",
       "0      200001   152234       55973  2181-11-25 19:06:12  2181-11-28 20:59:25   \n",
       "1      200001   152234       55973  2181-11-25 19:06:12  2181-11-28 20:59:25   \n",
       "2      200001   152234       55973  2181-11-25 19:06:12  2181-11-28 20:59:25   \n",
       "3      200001   152234       55973  2181-11-25 19:06:12  2181-11-28 20:59:25   \n",
       "4      200001   152234       55973  2181-11-25 19:06:12  2181-11-28 20:59:25   \n",
       "\n",
       "             starttime              endtime    hr   dy gender  \\\n",
       "0  2181-11-24 19:06:12  2181-11-24 20:06:12 -24.0  0.0      F   \n",
       "1  2181-11-24 20:06:12  2181-11-24 21:06:12 -23.0  0.0      F   \n",
       "2  2181-11-24 21:06:12  2181-11-24 22:06:12 -22.0  0.0      F   \n",
       "3  2181-11-24 22:06:12  2181-11-24 23:06:12 -21.0  0.0      F   \n",
       "4  2181-11-24 23:06:12  2181-11-25 00:06:12 -20.0  0.0      F   \n",
       "\n",
       "                   dob  age_years     los  icu_expire_flag  ttd_days  gcs  \\\n",
       "0  2120-10-31 00:00:00       61.0  3.0786                0     365.0  NaN   \n",
       "1  2120-10-31 00:00:00       61.0  3.0786                0     365.0  NaN   \n",
       "2  2120-10-31 00:00:00       61.0  3.0786                0     365.0  NaN   \n",
       "3  2120-10-31 00:00:00       61.0  3.0786                0     365.0  NaN   \n",
       "4  2120-10-31 00:00:00       61.0  3.0786                0     365.0  NaN   \n",
       "\n",
       "   endotrachflag  spo2  heartrate  meanarterialpressure  \n",
       "0            NaN   NaN        NaN                   NaN  \n",
       "1            NaN   NaN        NaN                   NaN  \n",
       "2            NaN   NaN        NaN                   NaN  \n",
       "3            NaN   NaN        NaN                   NaN  \n",
       "4            NaN   NaN        NaN                   NaN  "
      ],
      "text/html": "<div>\n<style scoped>\n    .dataframe tbody tr th:only-of-type {\n        vertical-align: middle;\n    }\n\n    .dataframe tbody tr th {\n        vertical-align: top;\n    }\n\n    .dataframe thead th {\n        text-align: right;\n    }\n</style>\n<table border=\"1\" class=\"dataframe\">\n  <thead>\n    <tr style=\"text-align: right;\">\n      <th></th>\n      <th>icustay_id</th>\n      <th>hadm_id</th>\n      <th>subject_id</th>\n      <th>intime</th>\n      <th>outtime</th>\n      <th>starttime</th>\n      <th>endtime</th>\n      <th>hr</th>\n      <th>dy</th>\n      <th>gender</th>\n      <th>dob</th>\n      <th>age_years</th>\n      <th>los</th>\n      <th>icu_expire_flag</th>\n      <th>ttd_days</th>\n      <th>gcs</th>\n      <th>endotrachflag</th>\n      <th>spo2</th>\n      <th>heartrate</th>\n      <th>meanarterialpressure</th>\n    </tr>\n  </thead>\n  <tbody>\n    <tr>\n      <th>0</th>\n      <td>200001</td>\n      <td>152234</td>\n      <td>55973</td>\n      <td>2181-11-25 19:06:12</td>\n      <td>2181-11-28 20:59:25</td>\n      <td>2181-11-24 19:06:12</td>\n      <td>2181-11-24 20:06:12</td>\n      <td>-24.0</td>\n      <td>0.0</td>\n      <td>F</td>\n      <td>2120-10-31 00:00:00</td>\n      <td>61.0</td>\n      <td>3.0786</td>\n      <td>0</td>\n      <td>365.0</td>\n      <td>NaN</td>\n      <td>NaN</td>\n      <td>NaN</td>\n      <td>NaN</td>\n      <td>NaN</td>\n    </tr>\n    <tr>\n      <th>1</th>\n      <td>200001</td>\n      <td>152234</td>\n      <td>55973</td>\n      <td>2181-11-25 19:06:12</td>\n      <td>2181-11-28 20:59:25</td>\n      <td>2181-11-24 20:06:12</td>\n      <td>2181-11-24 21:06:12</td>\n      <td>-23.0</td>\n      <td>0.0</td>\n      <td>F</td>\n      <td>2120-10-31 00:00:00</td>\n      <td>61.0</td>\n      <td>3.0786</td>\n      <td>0</td>\n      <td>365.0</td>\n      <td>NaN</td>\n      <td>NaN</td>\n      <td>NaN</td>\n      <td>NaN</td>\n      <td>NaN</td>\n    </tr>\n    <tr>\n      <th>2</th>\n      <td>200001</td>\n      <td>152234</td>\n      <td>55973</td>\n      <td>2181-11-25 19:06:12</td>\n      <td>2181-11-28 20:59:25</td>\n      <td>2181-11-24 21:06:12</td>\n      <td>2181-11-24 22:06:12</td>\n      <td>-22.0</td>\n      <td>0.0</td>\n      <td>F</td>\n      <td>2120-10-31 00:00:00</td>\n      <td>61.0</td>\n      <td>3.0786</td>\n      <td>0</td>\n      <td>365.0</td>\n      <td>NaN</td>\n      <td>NaN</td>\n      <td>NaN</td>\n      <td>NaN</td>\n      <td>NaN</td>\n    </tr>\n    <tr>\n      <th>3</th>\n      <td>200001</td>\n      <td>152234</td>\n      <td>55973</td>\n      <td>2181-11-25 19:06:12</td>\n      <td>2181-11-28 20:59:25</td>\n      <td>2181-11-24 22:06:12</td>\n      <td>2181-11-24 23:06:12</td>\n      <td>-21.0</td>\n      <td>0.0</td>\n      <td>F</td>\n      <td>2120-10-31 00:00:00</td>\n      <td>61.0</td>\n      <td>3.0786</td>\n      <td>0</td>\n      <td>365.0</td>\n      <td>NaN</td>\n      <td>NaN</td>\n      <td>NaN</td>\n      <td>NaN</td>\n      <td>NaN</td>\n    </tr>\n    <tr>\n      <th>4</th>\n      <td>200001</td>\n      <td>152234</td>\n      <td>55973</td>\n      <td>2181-11-25 19:06:12</td>\n      <td>2181-11-28 20:59:25</td>\n      <td>2181-11-24 23:06:12</td>\n      <td>2181-11-25 00:06:12</td>\n      <td>-20.0</td>\n      <td>0.0</td>\n      <td>F</td>\n      <td>2120-10-31 00:00:00</td>\n      <td>61.0</td>\n      <td>3.0786</td>\n      <td>0</td>\n      <td>365.0</td>\n      <td>NaN</td>\n      <td>NaN</td>\n      <td>NaN</td>\n      <td>NaN</td>\n      <td>NaN</td>\n    </tr>\n  </tbody>\n</table>\n</div>"
     },
     "metadata": {},
     "execution_count": 18
    }
   ],
   "source": [
    "# merge with master\n",
    "master = pd.merge(master, vitals_hourly, how='left', on=['icustay_id','hr'])\n",
    "master.head()"
   ]
  },
  {
   "cell_type": "code",
   "execution_count": 19,
   "metadata": {},
   "outputs": [
    {
     "output_type": "stream",
     "name": "stdout",
     "text": [
      "Column icustay_id has 0.00% missing data\n",
      "\n",
      "Column hadm_id has 0.00% missing data\n",
      "\n",
      "Column subject_id has 0.00% missing data\n",
      "\n",
      "Column intime has 0.00% missing data\n",
      "\n",
      "Column outtime has 0.00% missing data\n",
      "\n",
      "Column starttime has 0.00% missing data\n",
      "\n",
      "Column endtime has 0.00% missing data\n",
      "\n",
      "Column hr has 0.00% missing data\n",
      "\n",
      "Column dy has 0.04% missing data\n",
      "\n",
      "Column gender has 0.00% missing data\n",
      "\n",
      "Column dob has 0.00% missing data\n",
      "\n",
      "Column age_years has 0.00% missing data\n",
      "\n",
      "Column los has 0.00% missing data\n",
      "\n",
      "Column icu_expire_flag has 0.00% missing data\n",
      "\n",
      "Column ttd_days has 59.25% missing data\n",
      "\n",
      "Column gcs has 82.80% missing data\n",
      "\n",
      "Column endotrachflag has 82.80% missing data\n",
      "\n",
      "Column spo2 has 39.45% missing data\n",
      "\n",
      "Column heartrate has 27.66% missing data\n",
      "\n",
      "Column meanarterialpressure has 47.07% missing data\n",
      "\n"
     ]
    }
   ],
   "source": [
    "missing_data(master)"
   ]
  },
  {
   "cell_type": "code",
   "execution_count": 20,
   "metadata": {},
   "outputs": [
    {
     "output_type": "execute_result",
     "data": {
      "text/plain": [
       "   icustay_id  hr  urineoutput\n",
       "0      200001   2        250.0\n",
       "1      200001  25         60.0\n",
       "2      200001  62         50.0\n",
       "3      200003   0        230.0\n",
       "4      200003   2          0.0"
      ],
      "text/html": "<div>\n<style scoped>\n    .dataframe tbody tr th:only-of-type {\n        vertical-align: middle;\n    }\n\n    .dataframe tbody tr th {\n        vertical-align: top;\n    }\n\n    .dataframe thead th {\n        text-align: right;\n    }\n</style>\n<table border=\"1\" class=\"dataframe\">\n  <thead>\n    <tr style=\"text-align: right;\">\n      <th></th>\n      <th>icustay_id</th>\n      <th>hr</th>\n      <th>urineoutput</th>\n    </tr>\n  </thead>\n  <tbody>\n    <tr>\n      <th>0</th>\n      <td>200001</td>\n      <td>2</td>\n      <td>250.0</td>\n    </tr>\n    <tr>\n      <th>1</th>\n      <td>200001</td>\n      <td>25</td>\n      <td>60.0</td>\n    </tr>\n    <tr>\n      <th>2</th>\n      <td>200001</td>\n      <td>62</td>\n      <td>50.0</td>\n    </tr>\n    <tr>\n      <th>3</th>\n      <td>200003</td>\n      <td>0</td>\n      <td>230.0</td>\n    </tr>\n    <tr>\n      <th>4</th>\n      <td>200003</td>\n      <td>2</td>\n      <td>0.0</td>\n    </tr>\n  </tbody>\n</table>\n</div>"
     },
     "metadata": {},
     "execution_count": 20
    }
   ],
   "source": [
    "# load in urine output \n",
    "output_hourly = pd.read_csv('mimic_data/output_hourly.csv')\n",
    "output_hourly.head()"
   ]
  },
  {
   "cell_type": "code",
   "execution_count": 21,
   "metadata": {},
   "outputs": [
    {
     "output_type": "execute_result",
     "data": {
      "text/plain": [
       "   icustay_id  hadm_id  subject_id               intime              outtime  \\\n",
       "0      200001   152234       55973  2181-11-25 19:06:12  2181-11-28 20:59:25   \n",
       "1      200001   152234       55973  2181-11-25 19:06:12  2181-11-28 20:59:25   \n",
       "2      200001   152234       55973  2181-11-25 19:06:12  2181-11-28 20:59:25   \n",
       "3      200001   152234       55973  2181-11-25 19:06:12  2181-11-28 20:59:25   \n",
       "4      200001   152234       55973  2181-11-25 19:06:12  2181-11-28 20:59:25   \n",
       "\n",
       "             starttime              endtime    hr   dy gender  \\\n",
       "0  2181-11-24 19:06:12  2181-11-24 20:06:12 -24.0  0.0      F   \n",
       "1  2181-11-24 20:06:12  2181-11-24 21:06:12 -23.0  0.0      F   \n",
       "2  2181-11-24 21:06:12  2181-11-24 22:06:12 -22.0  0.0      F   \n",
       "3  2181-11-24 22:06:12  2181-11-24 23:06:12 -21.0  0.0      F   \n",
       "4  2181-11-24 23:06:12  2181-11-25 00:06:12 -20.0  0.0      F   \n",
       "\n",
       "                   dob  age_years     los  icu_expire_flag  ttd_days  gcs  \\\n",
       "0  2120-10-31 00:00:00       61.0  3.0786                0     365.0  NaN   \n",
       "1  2120-10-31 00:00:00       61.0  3.0786                0     365.0  NaN   \n",
       "2  2120-10-31 00:00:00       61.0  3.0786                0     365.0  NaN   \n",
       "3  2120-10-31 00:00:00       61.0  3.0786                0     365.0  NaN   \n",
       "4  2120-10-31 00:00:00       61.0  3.0786                0     365.0  NaN   \n",
       "\n",
       "   endotrachflag  spo2  heartrate  meanarterialpressure  urineoutput  \n",
       "0            NaN   NaN        NaN                   NaN          NaN  \n",
       "1            NaN   NaN        NaN                   NaN          NaN  \n",
       "2            NaN   NaN        NaN                   NaN          NaN  \n",
       "3            NaN   NaN        NaN                   NaN          NaN  \n",
       "4            NaN   NaN        NaN                   NaN          NaN  "
      ],
      "text/html": "<div>\n<style scoped>\n    .dataframe tbody tr th:only-of-type {\n        vertical-align: middle;\n    }\n\n    .dataframe tbody tr th {\n        vertical-align: top;\n    }\n\n    .dataframe thead th {\n        text-align: right;\n    }\n</style>\n<table border=\"1\" class=\"dataframe\">\n  <thead>\n    <tr style=\"text-align: right;\">\n      <th></th>\n      <th>icustay_id</th>\n      <th>hadm_id</th>\n      <th>subject_id</th>\n      <th>intime</th>\n      <th>outtime</th>\n      <th>starttime</th>\n      <th>endtime</th>\n      <th>hr</th>\n      <th>dy</th>\n      <th>gender</th>\n      <th>dob</th>\n      <th>age_years</th>\n      <th>los</th>\n      <th>icu_expire_flag</th>\n      <th>ttd_days</th>\n      <th>gcs</th>\n      <th>endotrachflag</th>\n      <th>spo2</th>\n      <th>heartrate</th>\n      <th>meanarterialpressure</th>\n      <th>urineoutput</th>\n    </tr>\n  </thead>\n  <tbody>\n    <tr>\n      <th>0</th>\n      <td>200001</td>\n      <td>152234</td>\n      <td>55973</td>\n      <td>2181-11-25 19:06:12</td>\n      <td>2181-11-28 20:59:25</td>\n      <td>2181-11-24 19:06:12</td>\n      <td>2181-11-24 20:06:12</td>\n      <td>-24.0</td>\n      <td>0.0</td>\n      <td>F</td>\n      <td>2120-10-31 00:00:00</td>\n      <td>61.0</td>\n      <td>3.0786</td>\n      <td>0</td>\n      <td>365.0</td>\n      <td>NaN</td>\n      <td>NaN</td>\n      <td>NaN</td>\n      <td>NaN</td>\n      <td>NaN</td>\n      <td>NaN</td>\n    </tr>\n    <tr>\n      <th>1</th>\n      <td>200001</td>\n      <td>152234</td>\n      <td>55973</td>\n      <td>2181-11-25 19:06:12</td>\n      <td>2181-11-28 20:59:25</td>\n      <td>2181-11-24 20:06:12</td>\n      <td>2181-11-24 21:06:12</td>\n      <td>-23.0</td>\n      <td>0.0</td>\n      <td>F</td>\n      <td>2120-10-31 00:00:00</td>\n      <td>61.0</td>\n      <td>3.0786</td>\n      <td>0</td>\n      <td>365.0</td>\n      <td>NaN</td>\n      <td>NaN</td>\n      <td>NaN</td>\n      <td>NaN</td>\n      <td>NaN</td>\n      <td>NaN</td>\n    </tr>\n    <tr>\n      <th>2</th>\n      <td>200001</td>\n      <td>152234</td>\n      <td>55973</td>\n      <td>2181-11-25 19:06:12</td>\n      <td>2181-11-28 20:59:25</td>\n      <td>2181-11-24 21:06:12</td>\n      <td>2181-11-24 22:06:12</td>\n      <td>-22.0</td>\n      <td>0.0</td>\n      <td>F</td>\n      <td>2120-10-31 00:00:00</td>\n      <td>61.0</td>\n      <td>3.0786</td>\n      <td>0</td>\n      <td>365.0</td>\n      <td>NaN</td>\n      <td>NaN</td>\n      <td>NaN</td>\n      <td>NaN</td>\n      <td>NaN</td>\n      <td>NaN</td>\n    </tr>\n    <tr>\n      <th>3</th>\n      <td>200001</td>\n      <td>152234</td>\n      <td>55973</td>\n      <td>2181-11-25 19:06:12</td>\n      <td>2181-11-28 20:59:25</td>\n      <td>2181-11-24 22:06:12</td>\n      <td>2181-11-24 23:06:12</td>\n      <td>-21.0</td>\n      <td>0.0</td>\n      <td>F</td>\n      <td>2120-10-31 00:00:00</td>\n      <td>61.0</td>\n      <td>3.0786</td>\n      <td>0</td>\n      <td>365.0</td>\n      <td>NaN</td>\n      <td>NaN</td>\n      <td>NaN</td>\n      <td>NaN</td>\n      <td>NaN</td>\n      <td>NaN</td>\n    </tr>\n    <tr>\n      <th>4</th>\n      <td>200001</td>\n      <td>152234</td>\n      <td>55973</td>\n      <td>2181-11-25 19:06:12</td>\n      <td>2181-11-28 20:59:25</td>\n      <td>2181-11-24 23:06:12</td>\n      <td>2181-11-25 00:06:12</td>\n      <td>-20.0</td>\n      <td>0.0</td>\n      <td>F</td>\n      <td>2120-10-31 00:00:00</td>\n      <td>61.0</td>\n      <td>3.0786</td>\n      <td>0</td>\n      <td>365.0</td>\n      <td>NaN</td>\n      <td>NaN</td>\n      <td>NaN</td>\n      <td>NaN</td>\n      <td>NaN</td>\n      <td>NaN</td>\n    </tr>\n  </tbody>\n</table>\n</div>"
     },
     "metadata": {},
     "execution_count": 21
    }
   ],
   "source": [
    "# merge with master\n",
    "master = pd.merge(master, output_hourly, how='left', on=['icustay_id','hr'])\n",
    "master.head()"
   ]
  },
  {
   "cell_type": "code",
   "execution_count": 22,
   "metadata": {},
   "outputs": [
    {
     "output_type": "execute_result",
     "data": {
      "text/plain": [
       "   icustay_id   dy    hr  positiveculture\n",
       "0    217870.0  4.0  71.0                1\n",
       "1    217870.0  4.0  71.0                1\n",
       "2    217870.0  4.0  71.0                1\n",
       "3    217870.0  4.0  71.0                1\n",
       "4    217870.0  5.0  93.0                0"
      ],
      "text/html": "<div>\n<style scoped>\n    .dataframe tbody tr th:only-of-type {\n        vertical-align: middle;\n    }\n\n    .dataframe tbody tr th {\n        vertical-align: top;\n    }\n\n    .dataframe thead th {\n        text-align: right;\n    }\n</style>\n<table border=\"1\" class=\"dataframe\">\n  <thead>\n    <tr style=\"text-align: right;\">\n      <th></th>\n      <th>icustay_id</th>\n      <th>dy</th>\n      <th>hr</th>\n      <th>positiveculture</th>\n    </tr>\n  </thead>\n  <tbody>\n    <tr>\n      <th>0</th>\n      <td>217870.0</td>\n      <td>4.0</td>\n      <td>71.0</td>\n      <td>1</td>\n    </tr>\n    <tr>\n      <th>1</th>\n      <td>217870.0</td>\n      <td>4.0</td>\n      <td>71.0</td>\n      <td>1</td>\n    </tr>\n    <tr>\n      <th>2</th>\n      <td>217870.0</td>\n      <td>4.0</td>\n      <td>71.0</td>\n      <td>1</td>\n    </tr>\n    <tr>\n      <th>3</th>\n      <td>217870.0</td>\n      <td>4.0</td>\n      <td>71.0</td>\n      <td>1</td>\n    </tr>\n    <tr>\n      <th>4</th>\n      <td>217870.0</td>\n      <td>5.0</td>\n      <td>93.0</td>\n      <td>0</td>\n    </tr>\n  </tbody>\n</table>\n</div>"
     },
     "metadata": {},
     "execution_count": 22
    }
   ],
   "source": [
    "# load in blood culture dataset\n",
    "blood_culture = pd.read_csv('mimic_data/bloodculture.csv')\n",
    "# keeping relevent rows\n",
    "blood_culture = blood_culture[['icustay_id', 'dy', 'hr', 'positiveculture']]\n",
    "blood_culture.head()"
   ]
  },
  {
   "cell_type": "code",
   "execution_count": 23,
   "metadata": {},
   "outputs": [
    {
     "output_type": "execute_result",
     "data": {
      "text/plain": [
       "    icustay_id  hadm_id  subject_id               intime              outtime  \\\n",
       "0       200001   152234       55973  2181-11-25 19:06:12  2181-11-28 20:59:25   \n",
       "1       200001   152234       55973  2181-11-25 19:06:12  2181-11-28 20:59:25   \n",
       "2       200001   152234       55973  2181-11-25 19:06:12  2181-11-28 20:59:25   \n",
       "3       200001   152234       55973  2181-11-25 19:06:12  2181-11-28 20:59:25   \n",
       "4       200001   152234       55973  2181-11-25 19:06:12  2181-11-28 20:59:25   \n",
       "..         ...      ...         ...                  ...                  ...   \n",
       "95      200001   152234       55973  2181-11-25 19:06:12  2181-11-28 20:59:25   \n",
       "96      200001   152234       55973  2181-11-25 19:06:12  2181-11-28 20:59:25   \n",
       "97      200001   152234       55973  2181-11-25 19:06:12  2181-11-28 20:59:25   \n",
       "98      200001   152234       55973  2181-11-25 19:06:12  2181-11-28 20:59:25   \n",
       "99      219717   164256       55973  2181-07-31 22:54:53  2181-08-05 20:56:07   \n",
       "\n",
       "              starttime              endtime    hr   dy gender  \\\n",
       "0   2181-11-24 19:06:12  2181-11-24 20:06:12 -24.0  0.0      F   \n",
       "1   2181-11-24 20:06:12  2181-11-24 21:06:12 -23.0  0.0      F   \n",
       "2   2181-11-24 21:06:12  2181-11-24 22:06:12 -22.0  0.0      F   \n",
       "3   2181-11-24 22:06:12  2181-11-24 23:06:12 -21.0  0.0      F   \n",
       "4   2181-11-24 23:06:12  2181-11-25 00:06:12 -20.0  0.0      F   \n",
       "..                  ...                  ...   ...  ...    ...   \n",
       "95  2181-11-28 18:06:12  2181-11-28 19:06:12  71.0  3.0      F   \n",
       "96  2181-11-28 19:06:12  2181-11-28 20:06:12  72.0  4.0      F   \n",
       "97  2181-11-28 20:06:12  2181-11-28 21:06:12  73.0  4.0      F   \n",
       "98  2181-11-28 21:06:12  2181-11-28 22:06:12  74.0  4.0      F   \n",
       "99  2181-07-30 22:54:53  2181-07-30 23:54:53 -24.0  0.0      F   \n",
       "\n",
       "                    dob  age_years     los  icu_expire_flag  ttd_days   gcs  \\\n",
       "0   2120-10-31 00:00:00       61.0  3.0786                0     365.0   NaN   \n",
       "1   2120-10-31 00:00:00       61.0  3.0786                0     365.0   NaN   \n",
       "2   2120-10-31 00:00:00       61.0  3.0786                0     365.0   NaN   \n",
       "3   2120-10-31 00:00:00       61.0  3.0786                0     365.0   NaN   \n",
       "4   2120-10-31 00:00:00       61.0  3.0786                0     365.0   NaN   \n",
       "..                  ...        ...     ...              ...       ...   ...   \n",
       "95  2120-10-31 00:00:00       61.0  3.0786                0     365.0   NaN   \n",
       "96  2120-10-31 00:00:00       61.0  3.0786                0     365.0  15.0   \n",
       "97  2120-10-31 00:00:00       61.0  3.0786                0     365.0   NaN   \n",
       "98  2120-10-31 00:00:00       61.0  3.0786                0     365.0   NaN   \n",
       "99  2120-10-31 00:00:00       60.0  4.9175                0     482.0   NaN   \n",
       "\n",
       "    endotrachflag   spo2  heartrate  meanarterialpressure  urineoutput  \\\n",
       "0             NaN    NaN        NaN                   NaN          NaN   \n",
       "1             NaN    NaN        NaN                   NaN          NaN   \n",
       "2             NaN    NaN        NaN                   NaN          NaN   \n",
       "3             NaN    NaN        NaN                   NaN          NaN   \n",
       "4             NaN    NaN        NaN                   NaN          NaN   \n",
       "..            ...    ...        ...                   ...          ...   \n",
       "95            NaN  100.0       89.0                  84.0          NaN   \n",
       "96            0.0   98.2       86.0                  58.0          NaN   \n",
       "97            NaN    NaN        NaN                   NaN          NaN   \n",
       "98            NaN    NaN        NaN                   NaN          NaN   \n",
       "99            NaN    NaN        NaN                   NaN          NaN   \n",
       "\n",
       "    positiveculture  \n",
       "0               NaN  \n",
       "1               NaN  \n",
       "2               NaN  \n",
       "3               NaN  \n",
       "4               NaN  \n",
       "..              ...  \n",
       "95              NaN  \n",
       "96              NaN  \n",
       "97              NaN  \n",
       "98              NaN  \n",
       "99              NaN  \n",
       "\n",
       "[100 rows x 22 columns]"
      ],
      "text/html": "<div>\n<style scoped>\n    .dataframe tbody tr th:only-of-type {\n        vertical-align: middle;\n    }\n\n    .dataframe tbody tr th {\n        vertical-align: top;\n    }\n\n    .dataframe thead th {\n        text-align: right;\n    }\n</style>\n<table border=\"1\" class=\"dataframe\">\n  <thead>\n    <tr style=\"text-align: right;\">\n      <th></th>\n      <th>icustay_id</th>\n      <th>hadm_id</th>\n      <th>subject_id</th>\n      <th>intime</th>\n      <th>outtime</th>\n      <th>starttime</th>\n      <th>endtime</th>\n      <th>hr</th>\n      <th>dy</th>\n      <th>gender</th>\n      <th>dob</th>\n      <th>age_years</th>\n      <th>los</th>\n      <th>icu_expire_flag</th>\n      <th>ttd_days</th>\n      <th>gcs</th>\n      <th>endotrachflag</th>\n      <th>spo2</th>\n      <th>heartrate</th>\n      <th>meanarterialpressure</th>\n      <th>urineoutput</th>\n      <th>positiveculture</th>\n    </tr>\n  </thead>\n  <tbody>\n    <tr>\n      <th>0</th>\n      <td>200001</td>\n      <td>152234</td>\n      <td>55973</td>\n      <td>2181-11-25 19:06:12</td>\n      <td>2181-11-28 20:59:25</td>\n      <td>2181-11-24 19:06:12</td>\n      <td>2181-11-24 20:06:12</td>\n      <td>-24.0</td>\n      <td>0.0</td>\n      <td>F</td>\n      <td>2120-10-31 00:00:00</td>\n      <td>61.0</td>\n      <td>3.0786</td>\n      <td>0</td>\n      <td>365.0</td>\n      <td>NaN</td>\n      <td>NaN</td>\n      <td>NaN</td>\n      <td>NaN</td>\n      <td>NaN</td>\n      <td>NaN</td>\n      <td>NaN</td>\n    </tr>\n    <tr>\n      <th>1</th>\n      <td>200001</td>\n      <td>152234</td>\n      <td>55973</td>\n      <td>2181-11-25 19:06:12</td>\n      <td>2181-11-28 20:59:25</td>\n      <td>2181-11-24 20:06:12</td>\n      <td>2181-11-24 21:06:12</td>\n      <td>-23.0</td>\n      <td>0.0</td>\n      <td>F</td>\n      <td>2120-10-31 00:00:00</td>\n      <td>61.0</td>\n      <td>3.0786</td>\n      <td>0</td>\n      <td>365.0</td>\n      <td>NaN</td>\n      <td>NaN</td>\n      <td>NaN</td>\n      <td>NaN</td>\n      <td>NaN</td>\n      <td>NaN</td>\n      <td>NaN</td>\n    </tr>\n    <tr>\n      <th>2</th>\n      <td>200001</td>\n      <td>152234</td>\n      <td>55973</td>\n      <td>2181-11-25 19:06:12</td>\n      <td>2181-11-28 20:59:25</td>\n      <td>2181-11-24 21:06:12</td>\n      <td>2181-11-24 22:06:12</td>\n      <td>-22.0</td>\n      <td>0.0</td>\n      <td>F</td>\n      <td>2120-10-31 00:00:00</td>\n      <td>61.0</td>\n      <td>3.0786</td>\n      <td>0</td>\n      <td>365.0</td>\n      <td>NaN</td>\n      <td>NaN</td>\n      <td>NaN</td>\n      <td>NaN</td>\n      <td>NaN</td>\n      <td>NaN</td>\n      <td>NaN</td>\n    </tr>\n    <tr>\n      <th>3</th>\n      <td>200001</td>\n      <td>152234</td>\n      <td>55973</td>\n      <td>2181-11-25 19:06:12</td>\n      <td>2181-11-28 20:59:25</td>\n      <td>2181-11-24 22:06:12</td>\n      <td>2181-11-24 23:06:12</td>\n      <td>-21.0</td>\n      <td>0.0</td>\n      <td>F</td>\n      <td>2120-10-31 00:00:00</td>\n      <td>61.0</td>\n      <td>3.0786</td>\n      <td>0</td>\n      <td>365.0</td>\n      <td>NaN</td>\n      <td>NaN</td>\n      <td>NaN</td>\n      <td>NaN</td>\n      <td>NaN</td>\n      <td>NaN</td>\n      <td>NaN</td>\n    </tr>\n    <tr>\n      <th>4</th>\n      <td>200001</td>\n      <td>152234</td>\n      <td>55973</td>\n      <td>2181-11-25 19:06:12</td>\n      <td>2181-11-28 20:59:25</td>\n      <td>2181-11-24 23:06:12</td>\n      <td>2181-11-25 00:06:12</td>\n      <td>-20.0</td>\n      <td>0.0</td>\n      <td>F</td>\n      <td>2120-10-31 00:00:00</td>\n      <td>61.0</td>\n      <td>3.0786</td>\n      <td>0</td>\n      <td>365.0</td>\n      <td>NaN</td>\n      <td>NaN</td>\n      <td>NaN</td>\n      <td>NaN</td>\n      <td>NaN</td>\n      <td>NaN</td>\n      <td>NaN</td>\n    </tr>\n    <tr>\n      <th>...</th>\n      <td>...</td>\n      <td>...</td>\n      <td>...</td>\n      <td>...</td>\n      <td>...</td>\n      <td>...</td>\n      <td>...</td>\n      <td>...</td>\n      <td>...</td>\n      <td>...</td>\n      <td>...</td>\n      <td>...</td>\n      <td>...</td>\n      <td>...</td>\n      <td>...</td>\n      <td>...</td>\n      <td>...</td>\n      <td>...</td>\n      <td>...</td>\n      <td>...</td>\n      <td>...</td>\n      <td>...</td>\n    </tr>\n    <tr>\n      <th>95</th>\n      <td>200001</td>\n      <td>152234</td>\n      <td>55973</td>\n      <td>2181-11-25 19:06:12</td>\n      <td>2181-11-28 20:59:25</td>\n      <td>2181-11-28 18:06:12</td>\n      <td>2181-11-28 19:06:12</td>\n      <td>71.0</td>\n      <td>3.0</td>\n      <td>F</td>\n      <td>2120-10-31 00:00:00</td>\n      <td>61.0</td>\n      <td>3.0786</td>\n      <td>0</td>\n      <td>365.0</td>\n      <td>NaN</td>\n      <td>NaN</td>\n      <td>100.0</td>\n      <td>89.0</td>\n      <td>84.0</td>\n      <td>NaN</td>\n      <td>NaN</td>\n    </tr>\n    <tr>\n      <th>96</th>\n      <td>200001</td>\n      <td>152234</td>\n      <td>55973</td>\n      <td>2181-11-25 19:06:12</td>\n      <td>2181-11-28 20:59:25</td>\n      <td>2181-11-28 19:06:12</td>\n      <td>2181-11-28 20:06:12</td>\n      <td>72.0</td>\n      <td>4.0</td>\n      <td>F</td>\n      <td>2120-10-31 00:00:00</td>\n      <td>61.0</td>\n      <td>3.0786</td>\n      <td>0</td>\n      <td>365.0</td>\n      <td>15.0</td>\n      <td>0.0</td>\n      <td>98.2</td>\n      <td>86.0</td>\n      <td>58.0</td>\n      <td>NaN</td>\n      <td>NaN</td>\n    </tr>\n    <tr>\n      <th>97</th>\n      <td>200001</td>\n      <td>152234</td>\n      <td>55973</td>\n      <td>2181-11-25 19:06:12</td>\n      <td>2181-11-28 20:59:25</td>\n      <td>2181-11-28 20:06:12</td>\n      <td>2181-11-28 21:06:12</td>\n      <td>73.0</td>\n      <td>4.0</td>\n      <td>F</td>\n      <td>2120-10-31 00:00:00</td>\n      <td>61.0</td>\n      <td>3.0786</td>\n      <td>0</td>\n      <td>365.0</td>\n      <td>NaN</td>\n      <td>NaN</td>\n      <td>NaN</td>\n      <td>NaN</td>\n      <td>NaN</td>\n      <td>NaN</td>\n      <td>NaN</td>\n    </tr>\n    <tr>\n      <th>98</th>\n      <td>200001</td>\n      <td>152234</td>\n      <td>55973</td>\n      <td>2181-11-25 19:06:12</td>\n      <td>2181-11-28 20:59:25</td>\n      <td>2181-11-28 21:06:12</td>\n      <td>2181-11-28 22:06:12</td>\n      <td>74.0</td>\n      <td>4.0</td>\n      <td>F</td>\n      <td>2120-10-31 00:00:00</td>\n      <td>61.0</td>\n      <td>3.0786</td>\n      <td>0</td>\n      <td>365.0</td>\n      <td>NaN</td>\n      <td>NaN</td>\n      <td>NaN</td>\n      <td>NaN</td>\n      <td>NaN</td>\n      <td>NaN</td>\n      <td>NaN</td>\n    </tr>\n    <tr>\n      <th>99</th>\n      <td>219717</td>\n      <td>164256</td>\n      <td>55973</td>\n      <td>2181-07-31 22:54:53</td>\n      <td>2181-08-05 20:56:07</td>\n      <td>2181-07-30 22:54:53</td>\n      <td>2181-07-30 23:54:53</td>\n      <td>-24.0</td>\n      <td>0.0</td>\n      <td>F</td>\n      <td>2120-10-31 00:00:00</td>\n      <td>60.0</td>\n      <td>4.9175</td>\n      <td>0</td>\n      <td>482.0</td>\n      <td>NaN</td>\n      <td>NaN</td>\n      <td>NaN</td>\n      <td>NaN</td>\n      <td>NaN</td>\n      <td>NaN</td>\n      <td>NaN</td>\n    </tr>\n  </tbody>\n</table>\n<p>100 rows × 22 columns</p>\n</div>"
     },
     "metadata": {},
     "execution_count": 23
    }
   ],
   "source": [
    "# merge blood culture with master\n",
    "master = pd.merge(master, blood_culture, how='left')\n",
    "master.head(100)"
   ]
  },
  {
   "cell_type": "code",
   "execution_count": 24,
   "metadata": {},
   "outputs": [
    {
     "output_type": "execute_result",
     "data": {
      "text/plain": [
       "   icustay_id            starttime              endtime  amount amountuom  \\\n",
       "0    200033.0  2198-08-11 14:40:00  2198-08-11 14:41:00     1.0      dose   \n",
       "1    200033.0  2198-08-11 15:36:00  2198-08-11 15:37:00     1.0      dose   \n",
       "2    200033.0  2198-08-11 22:05:00  2198-08-11 22:06:00     1.0      dose   \n",
       "3    200033.0  2198-08-12 00:24:00  2198-08-12 00:25:00     1.0      dose   \n",
       "4    200033.0  2198-08-12 00:25:00  2198-08-12 00:26:00     1.0      dose   \n",
       "\n",
       "   rate  rateuom    ordercategoryname  patientweight  totalamount  \\\n",
       "0   NaN      NaN  08-Antibiotics (IV)           74.0        100.0   \n",
       "1   NaN      NaN  08-Antibiotics (IV)           74.0        200.0   \n",
       "2   NaN      NaN  08-Antibiotics (IV)           74.0        100.0   \n",
       "3   NaN      NaN  08-Antibiotics (IV)           74.0        200.0   \n",
       "4   NaN      NaN  08-Antibiotics (IV)           74.0        200.0   \n",
       "\n",
       "  totalamountuom statusdescription                            label  \\\n",
       "0             ml   FinishedRunning  Piperacillin/Tazobactam (Zosyn)   \n",
       "1             ml   FinishedRunning                    Ciprofloxacin   \n",
       "2             ml   FinishedRunning                     Piperacillin   \n",
       "3             ml         Rewritten                    Ciprofloxacin   \n",
       "4             ml   FinishedRunning                    Ciprofloxacin   \n",
       "\n",
       "                      abbreviation  antibiotic    dbsource  \n",
       "0  Piperacillin/Tazobactam (Zosyn)           1  metavision  \n",
       "1                    Ciprofloxacin           1  metavision  \n",
       "2                     Piperacillin           1  metavision  \n",
       "3                    Ciprofloxacin           1  metavision  \n",
       "4                    Ciprofloxacin           1  metavision  "
      ],
      "text/html": "<div>\n<style scoped>\n    .dataframe tbody tr th:only-of-type {\n        vertical-align: middle;\n    }\n\n    .dataframe tbody tr th {\n        vertical-align: top;\n    }\n\n    .dataframe thead th {\n        text-align: right;\n    }\n</style>\n<table border=\"1\" class=\"dataframe\">\n  <thead>\n    <tr style=\"text-align: right;\">\n      <th></th>\n      <th>icustay_id</th>\n      <th>starttime</th>\n      <th>endtime</th>\n      <th>amount</th>\n      <th>amountuom</th>\n      <th>rate</th>\n      <th>rateuom</th>\n      <th>ordercategoryname</th>\n      <th>patientweight</th>\n      <th>totalamount</th>\n      <th>totalamountuom</th>\n      <th>statusdescription</th>\n      <th>label</th>\n      <th>abbreviation</th>\n      <th>antibiotic</th>\n      <th>dbsource</th>\n    </tr>\n  </thead>\n  <tbody>\n    <tr>\n      <th>0</th>\n      <td>200033.0</td>\n      <td>2198-08-11 14:40:00</td>\n      <td>2198-08-11 14:41:00</td>\n      <td>1.0</td>\n      <td>dose</td>\n      <td>NaN</td>\n      <td>NaN</td>\n      <td>08-Antibiotics (IV)</td>\n      <td>74.0</td>\n      <td>100.0</td>\n      <td>ml</td>\n      <td>FinishedRunning</td>\n      <td>Piperacillin/Tazobactam (Zosyn)</td>\n      <td>Piperacillin/Tazobactam (Zosyn)</td>\n      <td>1</td>\n      <td>metavision</td>\n    </tr>\n    <tr>\n      <th>1</th>\n      <td>200033.0</td>\n      <td>2198-08-11 15:36:00</td>\n      <td>2198-08-11 15:37:00</td>\n      <td>1.0</td>\n      <td>dose</td>\n      <td>NaN</td>\n      <td>NaN</td>\n      <td>08-Antibiotics (IV)</td>\n      <td>74.0</td>\n      <td>200.0</td>\n      <td>ml</td>\n      <td>FinishedRunning</td>\n      <td>Ciprofloxacin</td>\n      <td>Ciprofloxacin</td>\n      <td>1</td>\n      <td>metavision</td>\n    </tr>\n    <tr>\n      <th>2</th>\n      <td>200033.0</td>\n      <td>2198-08-11 22:05:00</td>\n      <td>2198-08-11 22:06:00</td>\n      <td>1.0</td>\n      <td>dose</td>\n      <td>NaN</td>\n      <td>NaN</td>\n      <td>08-Antibiotics (IV)</td>\n      <td>74.0</td>\n      <td>100.0</td>\n      <td>ml</td>\n      <td>FinishedRunning</td>\n      <td>Piperacillin</td>\n      <td>Piperacillin</td>\n      <td>1</td>\n      <td>metavision</td>\n    </tr>\n    <tr>\n      <th>3</th>\n      <td>200033.0</td>\n      <td>2198-08-12 00:24:00</td>\n      <td>2198-08-12 00:25:00</td>\n      <td>1.0</td>\n      <td>dose</td>\n      <td>NaN</td>\n      <td>NaN</td>\n      <td>08-Antibiotics (IV)</td>\n      <td>74.0</td>\n      <td>200.0</td>\n      <td>ml</td>\n      <td>Rewritten</td>\n      <td>Ciprofloxacin</td>\n      <td>Ciprofloxacin</td>\n      <td>1</td>\n      <td>metavision</td>\n    </tr>\n    <tr>\n      <th>4</th>\n      <td>200033.0</td>\n      <td>2198-08-12 00:25:00</td>\n      <td>2198-08-12 00:26:00</td>\n      <td>1.0</td>\n      <td>dose</td>\n      <td>NaN</td>\n      <td>NaN</td>\n      <td>08-Antibiotics (IV)</td>\n      <td>74.0</td>\n      <td>200.0</td>\n      <td>ml</td>\n      <td>FinishedRunning</td>\n      <td>Ciprofloxacin</td>\n      <td>Ciprofloxacin</td>\n      <td>1</td>\n      <td>metavision</td>\n    </tr>\n  </tbody>\n</table>\n</div>"
     },
     "metadata": {},
     "execution_count": 24
    }
   ],
   "source": [
    "# load in antibiotics dataset\n",
    "antibiotics = pd.read_csv('mimic_data/antibiotics.csv')\n",
    "antibiotics.head()"
   ]
  },
  {
   "cell_type": "code",
   "execution_count": 25,
   "metadata": {},
   "outputs": [
    {
     "output_type": "execute_result",
     "data": {
      "text/plain": [
       "0    2883830\n",
       "1     851325\n",
       "Name: antibiotics_flag, dtype: int64"
      ]
     },
     "metadata": {},
     "execution_count": 25
    }
   ],
   "source": [
    "# create flag variable if antibiotics given to patient\n",
    "master['antibiotics_flag'] = np.where(master['icustay_id'].isin(antibiotics['icustay_id']),1,0)\n",
    "master['antibiotics_flag'].value_counts()"
   ]
  },
  {
   "cell_type": "code",
   "execution_count": 26,
   "metadata": {},
   "outputs": [
    {
     "output_type": "execute_result",
     "data": {
      "text/plain": [
       "   icustay_id            charttime            starttime              endtime  \\\n",
       "0      200003  2199-08-03 18:00:00  2199-08-03 18:00:00  2199-08-07 13:00:00   \n",
       "1      200003  2199-08-03 19:00:00  2199-08-03 18:00:00  2199-08-07 13:00:00   \n",
       "2      200003  2199-08-03 23:00:00  2199-08-03 18:00:00  2199-08-07 13:00:00   \n",
       "3      200003  2199-08-04 03:00:00  2199-08-03 18:00:00  2199-08-07 13:00:00   \n",
       "4      200003  2199-08-04 04:00:00  2199-08-03 18:00:00  2199-08-07 13:00:00   \n",
       "\n",
       "   duration_hours  ventnum  minutevolume  settidalvolume  obstidalvolume  \\\n",
       "0            91.0      1.0          12.6           600.0           582.0   \n",
       "1            91.0      1.0          11.2           600.0           610.0   \n",
       "2            91.0      1.0          10.4           600.0           574.0   \n",
       "3            91.0      1.0           9.8           600.0           613.0   \n",
       "4            91.0      1.0          18.0           600.0           575.0   \n",
       "\n",
       "   sponttidalvolume  setpeep  totalpeep  pressurehighaprv  pressurelowaprv  \\\n",
       "0               NaN      5.0        NaN               NaN              NaN   \n",
       "1               NaN     10.0        NaN               NaN              NaN   \n",
       "2               NaN     10.0        NaN               NaN              NaN   \n",
       "3               NaN     10.0        NaN               NaN              NaN   \n",
       "4               NaN      8.0        NaN               NaN              NaN   \n",
       "\n",
       "   timehighaprv  timelowaprv  meanairwaypressure  peakinsppressure  \\\n",
       "0           NaN          NaN                12.0              26.0   \n",
       "1           NaN          NaN                15.0              26.0   \n",
       "2           NaN          NaN                15.0              26.0   \n",
       "3           NaN          NaN                15.0              27.0   \n",
       "4           NaN          NaN                16.0              28.0   \n",
       "\n",
       "   neginspforce  insptime  plateaupressure  \n",
       "0           NaN       NaN             19.0  \n",
       "1           NaN       NaN             22.0  \n",
       "2           NaN       NaN             24.0  \n",
       "3           NaN       NaN             22.0  \n",
       "4           NaN       NaN              NaN  "
      ],
      "text/html": "<div>\n<style scoped>\n    .dataframe tbody tr th:only-of-type {\n        vertical-align: middle;\n    }\n\n    .dataframe tbody tr th {\n        vertical-align: top;\n    }\n\n    .dataframe thead th {\n        text-align: right;\n    }\n</style>\n<table border=\"1\" class=\"dataframe\">\n  <thead>\n    <tr style=\"text-align: right;\">\n      <th></th>\n      <th>icustay_id</th>\n      <th>charttime</th>\n      <th>starttime</th>\n      <th>endtime</th>\n      <th>duration_hours</th>\n      <th>ventnum</th>\n      <th>minutevolume</th>\n      <th>settidalvolume</th>\n      <th>obstidalvolume</th>\n      <th>sponttidalvolume</th>\n      <th>setpeep</th>\n      <th>totalpeep</th>\n      <th>pressurehighaprv</th>\n      <th>pressurelowaprv</th>\n      <th>timehighaprv</th>\n      <th>timelowaprv</th>\n      <th>meanairwaypressure</th>\n      <th>peakinsppressure</th>\n      <th>neginspforce</th>\n      <th>insptime</th>\n      <th>plateaupressure</th>\n    </tr>\n  </thead>\n  <tbody>\n    <tr>\n      <th>0</th>\n      <td>200003</td>\n      <td>2199-08-03 18:00:00</td>\n      <td>2199-08-03 18:00:00</td>\n      <td>2199-08-07 13:00:00</td>\n      <td>91.0</td>\n      <td>1.0</td>\n      <td>12.6</td>\n      <td>600.0</td>\n      <td>582.0</td>\n      <td>NaN</td>\n      <td>5.0</td>\n      <td>NaN</td>\n      <td>NaN</td>\n      <td>NaN</td>\n      <td>NaN</td>\n      <td>NaN</td>\n      <td>12.0</td>\n      <td>26.0</td>\n      <td>NaN</td>\n      <td>NaN</td>\n      <td>19.0</td>\n    </tr>\n    <tr>\n      <th>1</th>\n      <td>200003</td>\n      <td>2199-08-03 19:00:00</td>\n      <td>2199-08-03 18:00:00</td>\n      <td>2199-08-07 13:00:00</td>\n      <td>91.0</td>\n      <td>1.0</td>\n      <td>11.2</td>\n      <td>600.0</td>\n      <td>610.0</td>\n      <td>NaN</td>\n      <td>10.0</td>\n      <td>NaN</td>\n      <td>NaN</td>\n      <td>NaN</td>\n      <td>NaN</td>\n      <td>NaN</td>\n      <td>15.0</td>\n      <td>26.0</td>\n      <td>NaN</td>\n      <td>NaN</td>\n      <td>22.0</td>\n    </tr>\n    <tr>\n      <th>2</th>\n      <td>200003</td>\n      <td>2199-08-03 23:00:00</td>\n      <td>2199-08-03 18:00:00</td>\n      <td>2199-08-07 13:00:00</td>\n      <td>91.0</td>\n      <td>1.0</td>\n      <td>10.4</td>\n      <td>600.0</td>\n      <td>574.0</td>\n      <td>NaN</td>\n      <td>10.0</td>\n      <td>NaN</td>\n      <td>NaN</td>\n      <td>NaN</td>\n      <td>NaN</td>\n      <td>NaN</td>\n      <td>15.0</td>\n      <td>26.0</td>\n      <td>NaN</td>\n      <td>NaN</td>\n      <td>24.0</td>\n    </tr>\n    <tr>\n      <th>3</th>\n      <td>200003</td>\n      <td>2199-08-04 03:00:00</td>\n      <td>2199-08-03 18:00:00</td>\n      <td>2199-08-07 13:00:00</td>\n      <td>91.0</td>\n      <td>1.0</td>\n      <td>9.8</td>\n      <td>600.0</td>\n      <td>613.0</td>\n      <td>NaN</td>\n      <td>10.0</td>\n      <td>NaN</td>\n      <td>NaN</td>\n      <td>NaN</td>\n      <td>NaN</td>\n      <td>NaN</td>\n      <td>15.0</td>\n      <td>27.0</td>\n      <td>NaN</td>\n      <td>NaN</td>\n      <td>22.0</td>\n    </tr>\n    <tr>\n      <th>4</th>\n      <td>200003</td>\n      <td>2199-08-04 04:00:00</td>\n      <td>2199-08-03 18:00:00</td>\n      <td>2199-08-07 13:00:00</td>\n      <td>91.0</td>\n      <td>1.0</td>\n      <td>18.0</td>\n      <td>600.0</td>\n      <td>575.0</td>\n      <td>NaN</td>\n      <td>8.0</td>\n      <td>NaN</td>\n      <td>NaN</td>\n      <td>NaN</td>\n      <td>NaN</td>\n      <td>NaN</td>\n      <td>16.0</td>\n      <td>28.0</td>\n      <td>NaN</td>\n      <td>NaN</td>\n      <td>NaN</td>\n    </tr>\n  </tbody>\n</table>\n</div>"
     },
     "metadata": {},
     "execution_count": 26
    }
   ],
   "source": [
    "# load in pv_mechvent dataset\n",
    "mechvent = pd.read_csv('mimic_data/pv_mechvent.csv')\n",
    "mechvent.head()"
   ]
  },
  {
   "cell_type": "code",
   "execution_count": 27,
   "metadata": {},
   "outputs": [
    {
     "output_type": "execute_result",
     "data": {
      "text/plain": [
       "1    2489247\n",
       "0    1245908\n",
       "Name: mechvent_flag, dtype: int64"
      ]
     },
     "metadata": {},
     "execution_count": 27
    }
   ],
   "source": [
    "# create flag variable if patient on mechanical ventilation \n",
    "master['mechvent_flag'] = np.where(master['icustay_id'].isin(mechvent['icustay_id']),1,0)\n",
    "master['mechvent_flag'].value_counts()"
   ]
  },
  {
   "cell_type": "code",
   "execution_count": 28,
   "metadata": {},
   "outputs": [
    {
     "output_type": "execute_result",
     "data": {
      "text/plain": [
       "   icustay_id            starttime              endtime  norepinephrine_rate  \\\n",
       "0    200024.0  2127-03-03 16:15:00  2127-03-03 16:45:00             0.300517   \n",
       "1    200024.0  2127-03-03 16:17:00  2127-03-03 20:35:00                  NaN   \n",
       "2    200024.0  2127-03-03 16:45:00  2127-03-03 17:15:00             0.200345   \n",
       "3    200024.0  2127-03-03 17:15:00  2127-03-03 20:30:00             0.502390   \n",
       "4    200028.0  2133-10-29 17:49:00  2133-10-29 18:11:00             0.060011   \n",
       "\n",
       "   norepinephrine_amount  epinephrine_rate  epinephrine_amount  dopamine_rate  \\\n",
       "0               0.638298               NaN                 NaN            NaN   \n",
       "1                    NaN               NaN                 NaN       20.03446   \n",
       "2               0.425532               NaN                 NaN            NaN   \n",
       "3               6.936000               NaN                 NaN            NaN   \n",
       "4               0.110901               NaN                 NaN            NaN   \n",
       "\n",
       "   dopamine_amount  dobutamine_rate  dobutamine_amount  \n",
       "0              NaN              NaN                NaN  \n",
       "1       365.957468              NaN                NaN  \n",
       "2              NaN              NaN                NaN  \n",
       "3              NaN              NaN                NaN  \n",
       "4              NaN              NaN                NaN  "
      ],
      "text/html": "<div>\n<style scoped>\n    .dataframe tbody tr th:only-of-type {\n        vertical-align: middle;\n    }\n\n    .dataframe tbody tr th {\n        vertical-align: top;\n    }\n\n    .dataframe thead th {\n        text-align: right;\n    }\n</style>\n<table border=\"1\" class=\"dataframe\">\n  <thead>\n    <tr style=\"text-align: right;\">\n      <th></th>\n      <th>icustay_id</th>\n      <th>starttime</th>\n      <th>endtime</th>\n      <th>norepinephrine_rate</th>\n      <th>norepinephrine_amount</th>\n      <th>epinephrine_rate</th>\n      <th>epinephrine_amount</th>\n      <th>dopamine_rate</th>\n      <th>dopamine_amount</th>\n      <th>dobutamine_rate</th>\n      <th>dobutamine_amount</th>\n    </tr>\n  </thead>\n  <tbody>\n    <tr>\n      <th>0</th>\n      <td>200024.0</td>\n      <td>2127-03-03 16:15:00</td>\n      <td>2127-03-03 16:45:00</td>\n      <td>0.300517</td>\n      <td>0.638298</td>\n      <td>NaN</td>\n      <td>NaN</td>\n      <td>NaN</td>\n      <td>NaN</td>\n      <td>NaN</td>\n      <td>NaN</td>\n    </tr>\n    <tr>\n      <th>1</th>\n      <td>200024.0</td>\n      <td>2127-03-03 16:17:00</td>\n      <td>2127-03-03 20:35:00</td>\n      <td>NaN</td>\n      <td>NaN</td>\n      <td>NaN</td>\n      <td>NaN</td>\n      <td>20.03446</td>\n      <td>365.957468</td>\n      <td>NaN</td>\n      <td>NaN</td>\n    </tr>\n    <tr>\n      <th>2</th>\n      <td>200024.0</td>\n      <td>2127-03-03 16:45:00</td>\n      <td>2127-03-03 17:15:00</td>\n      <td>0.200345</td>\n      <td>0.425532</td>\n      <td>NaN</td>\n      <td>NaN</td>\n      <td>NaN</td>\n      <td>NaN</td>\n      <td>NaN</td>\n      <td>NaN</td>\n    </tr>\n    <tr>\n      <th>3</th>\n      <td>200024.0</td>\n      <td>2127-03-03 17:15:00</td>\n      <td>2127-03-03 20:30:00</td>\n      <td>0.502390</td>\n      <td>6.936000</td>\n      <td>NaN</td>\n      <td>NaN</td>\n      <td>NaN</td>\n      <td>NaN</td>\n      <td>NaN</td>\n      <td>NaN</td>\n    </tr>\n    <tr>\n      <th>4</th>\n      <td>200028.0</td>\n      <td>2133-10-29 17:49:00</td>\n      <td>2133-10-29 18:11:00</td>\n      <td>0.060011</td>\n      <td>0.110901</td>\n      <td>NaN</td>\n      <td>NaN</td>\n      <td>NaN</td>\n      <td>NaN</td>\n      <td>NaN</td>\n      <td>NaN</td>\n    </tr>\n  </tbody>\n</table>\n</div>"
     },
     "metadata": {},
     "execution_count": 28
    }
   ],
   "source": [
    "# load in vasopressor dataset\n",
    "vasopressors = pd.read_csv('mimic_data/vasopressors.csv')\n",
    "vasopressors.head()"
   ]
  },
  {
   "cell_type": "code",
   "execution_count": 29,
   "metadata": {},
   "outputs": [
    {
     "output_type": "execute_result",
     "data": {
      "text/plain": [
       "0    2886884\n",
       "1     848271\n",
       "Name: vasopressor_flag, dtype: int64"
      ]
     },
     "metadata": {},
     "execution_count": 29
    }
   ],
   "source": [
    "# create flag variable if patient was given vasopressors --> indicates chronic organ failure (attempting to raise blood pressure)\n",
    "master['vasopressor_flag'] = np.where(master['icustay_id'].isin(vasopressors['icustay_id']),1,0)\n",
    "master['vasopressor_flag'].value_counts()"
   ]
  },
  {
   "cell_type": "code",
   "execution_count": 30,
   "metadata": {},
   "outputs": [
    {
     "output_type": "execute_result",
     "data": {
      "text/plain": [
       "   icustay_id  hadm_id  subject_id               intime              outtime  \\\n",
       "0      200001   152234       55973  2181-11-25 19:06:12  2181-11-28 20:59:25   \n",
       "1      200001   152234       55973  2181-11-25 19:06:12  2181-11-28 20:59:25   \n",
       "2      200001   152234       55973  2181-11-25 19:06:12  2181-11-28 20:59:25   \n",
       "3      200001   152234       55973  2181-11-25 19:06:12  2181-11-28 20:59:25   \n",
       "4      200001   152234       55973  2181-11-25 19:06:12  2181-11-28 20:59:25   \n",
       "\n",
       "             starttime              endtime    hr   dy gender  \\\n",
       "0  2181-11-24 19:06:12  2181-11-24 20:06:12 -24.0  0.0      F   \n",
       "1  2181-11-24 20:06:12  2181-11-24 21:06:12 -23.0  0.0      F   \n",
       "2  2181-11-24 21:06:12  2181-11-24 22:06:12 -22.0  0.0      F   \n",
       "3  2181-11-24 22:06:12  2181-11-24 23:06:12 -21.0  0.0      F   \n",
       "4  2181-11-24 23:06:12  2181-11-25 00:06:12 -20.0  0.0      F   \n",
       "\n",
       "                   dob  age_years     los  icu_expire_flag  ttd_days  gcs  \\\n",
       "0  2120-10-31 00:00:00       61.0  3.0786                0     365.0  NaN   \n",
       "1  2120-10-31 00:00:00       61.0  3.0786                0     365.0  NaN   \n",
       "2  2120-10-31 00:00:00       61.0  3.0786                0     365.0  NaN   \n",
       "3  2120-10-31 00:00:00       61.0  3.0786                0     365.0  NaN   \n",
       "4  2120-10-31 00:00:00       61.0  3.0786                0     365.0  NaN   \n",
       "\n",
       "   endotrachflag  spo2  heartrate  meanarterialpressure  urineoutput  \\\n",
       "0            NaN   NaN        NaN                   NaN          NaN   \n",
       "1            NaN   NaN        NaN                   NaN          NaN   \n",
       "2            NaN   NaN        NaN                   NaN          NaN   \n",
       "3            NaN   NaN        NaN                   NaN          NaN   \n",
       "4            NaN   NaN        NaN                   NaN          NaN   \n",
       "\n",
       "   positiveculture  antibiotics_flag  mechvent_flag  vasopressor_flag  \n",
       "0              NaN                 0              0                 0  \n",
       "1              NaN                 0              0                 0  \n",
       "2              NaN                 0              0                 0  \n",
       "3              NaN                 0              0                 0  \n",
       "4              NaN                 0              0                 0  "
      ],
      "text/html": "<div>\n<style scoped>\n    .dataframe tbody tr th:only-of-type {\n        vertical-align: middle;\n    }\n\n    .dataframe tbody tr th {\n        vertical-align: top;\n    }\n\n    .dataframe thead th {\n        text-align: right;\n    }\n</style>\n<table border=\"1\" class=\"dataframe\">\n  <thead>\n    <tr style=\"text-align: right;\">\n      <th></th>\n      <th>icustay_id</th>\n      <th>hadm_id</th>\n      <th>subject_id</th>\n      <th>intime</th>\n      <th>outtime</th>\n      <th>starttime</th>\n      <th>endtime</th>\n      <th>hr</th>\n      <th>dy</th>\n      <th>gender</th>\n      <th>dob</th>\n      <th>age_years</th>\n      <th>los</th>\n      <th>icu_expire_flag</th>\n      <th>ttd_days</th>\n      <th>gcs</th>\n      <th>endotrachflag</th>\n      <th>spo2</th>\n      <th>heartrate</th>\n      <th>meanarterialpressure</th>\n      <th>urineoutput</th>\n      <th>positiveculture</th>\n      <th>antibiotics_flag</th>\n      <th>mechvent_flag</th>\n      <th>vasopressor_flag</th>\n    </tr>\n  </thead>\n  <tbody>\n    <tr>\n      <th>0</th>\n      <td>200001</td>\n      <td>152234</td>\n      <td>55973</td>\n      <td>2181-11-25 19:06:12</td>\n      <td>2181-11-28 20:59:25</td>\n      <td>2181-11-24 19:06:12</td>\n      <td>2181-11-24 20:06:12</td>\n      <td>-24.0</td>\n      <td>0.0</td>\n      <td>F</td>\n      <td>2120-10-31 00:00:00</td>\n      <td>61.0</td>\n      <td>3.0786</td>\n      <td>0</td>\n      <td>365.0</td>\n      <td>NaN</td>\n      <td>NaN</td>\n      <td>NaN</td>\n      <td>NaN</td>\n      <td>NaN</td>\n      <td>NaN</td>\n      <td>NaN</td>\n      <td>0</td>\n      <td>0</td>\n      <td>0</td>\n    </tr>\n    <tr>\n      <th>1</th>\n      <td>200001</td>\n      <td>152234</td>\n      <td>55973</td>\n      <td>2181-11-25 19:06:12</td>\n      <td>2181-11-28 20:59:25</td>\n      <td>2181-11-24 20:06:12</td>\n      <td>2181-11-24 21:06:12</td>\n      <td>-23.0</td>\n      <td>0.0</td>\n      <td>F</td>\n      <td>2120-10-31 00:00:00</td>\n      <td>61.0</td>\n      <td>3.0786</td>\n      <td>0</td>\n      <td>365.0</td>\n      <td>NaN</td>\n      <td>NaN</td>\n      <td>NaN</td>\n      <td>NaN</td>\n      <td>NaN</td>\n      <td>NaN</td>\n      <td>NaN</td>\n      <td>0</td>\n      <td>0</td>\n      <td>0</td>\n    </tr>\n    <tr>\n      <th>2</th>\n      <td>200001</td>\n      <td>152234</td>\n      <td>55973</td>\n      <td>2181-11-25 19:06:12</td>\n      <td>2181-11-28 20:59:25</td>\n      <td>2181-11-24 21:06:12</td>\n      <td>2181-11-24 22:06:12</td>\n      <td>-22.0</td>\n      <td>0.0</td>\n      <td>F</td>\n      <td>2120-10-31 00:00:00</td>\n      <td>61.0</td>\n      <td>3.0786</td>\n      <td>0</td>\n      <td>365.0</td>\n      <td>NaN</td>\n      <td>NaN</td>\n      <td>NaN</td>\n      <td>NaN</td>\n      <td>NaN</td>\n      <td>NaN</td>\n      <td>NaN</td>\n      <td>0</td>\n      <td>0</td>\n      <td>0</td>\n    </tr>\n    <tr>\n      <th>3</th>\n      <td>200001</td>\n      <td>152234</td>\n      <td>55973</td>\n      <td>2181-11-25 19:06:12</td>\n      <td>2181-11-28 20:59:25</td>\n      <td>2181-11-24 22:06:12</td>\n      <td>2181-11-24 23:06:12</td>\n      <td>-21.0</td>\n      <td>0.0</td>\n      <td>F</td>\n      <td>2120-10-31 00:00:00</td>\n      <td>61.0</td>\n      <td>3.0786</td>\n      <td>0</td>\n      <td>365.0</td>\n      <td>NaN</td>\n      <td>NaN</td>\n      <td>NaN</td>\n      <td>NaN</td>\n      <td>NaN</td>\n      <td>NaN</td>\n      <td>NaN</td>\n      <td>0</td>\n      <td>0</td>\n      <td>0</td>\n    </tr>\n    <tr>\n      <th>4</th>\n      <td>200001</td>\n      <td>152234</td>\n      <td>55973</td>\n      <td>2181-11-25 19:06:12</td>\n      <td>2181-11-28 20:59:25</td>\n      <td>2181-11-24 23:06:12</td>\n      <td>2181-11-25 00:06:12</td>\n      <td>-20.0</td>\n      <td>0.0</td>\n      <td>F</td>\n      <td>2120-10-31 00:00:00</td>\n      <td>61.0</td>\n      <td>3.0786</td>\n      <td>0</td>\n      <td>365.0</td>\n      <td>NaN</td>\n      <td>NaN</td>\n      <td>NaN</td>\n      <td>NaN</td>\n      <td>NaN</td>\n      <td>NaN</td>\n      <td>NaN</td>\n      <td>0</td>\n      <td>0</td>\n      <td>0</td>\n    </tr>\n  </tbody>\n</table>\n</div>"
     },
     "metadata": {},
     "execution_count": 30
    }
   ],
   "source": [
    "master.head()"
   ]
  },
  {
   "cell_type": "code",
   "execution_count": null,
   "metadata": {},
   "outputs": [],
   "source": []
  }
 ]
}