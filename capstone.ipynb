{
 "metadata": {
  "language_info": {
   "codemirror_mode": {
    "name": "ipython",
    "version": 3
   },
   "file_extension": ".py",
   "mimetype": "text/x-python",
   "name": "python",
   "nbconvert_exporter": "python",
   "pygments_lexer": "ipython3",
   "version": "3.7.8-final"
  },
  "orig_nbformat": 2,
  "kernelspec": {
   "name": "python3",
   "display_name": "Python 3.7.8 64-bit ('datasci': conda)",
   "metadata": {
    "interpreter": {
     "hash": "8f54a0c8be88a2799a19a5deb3177024ac0d7b1077f67c4e6e88ebe8c2c5db8b"
    }
   }
  }
 },
 "nbformat": 4,
 "nbformat_minor": 2,
 "cells": [
  {
   "source": [
    "# HDAT Capstone Project\n",
    "\n",
    "## Research Question - Mortality prediction in the ICU:\n",
    "\n",
    "#### Task - The task is to build a predictive algorithm using the techniques we learned in this course\n",
    "#### Objective - To assess the role of machine learning algorithms for predicting mortality by using the MIMIC-II dataset\n",
    "#### Question - Is it possible to accurately predict mortality based on data from the first 24 hours in ICU?\n",
    "#### Study population - MIMIC-II dataset"
   ],
   "cell_type": "markdown",
   "metadata": {}
  },
  {
   "source": [
    "Notes about the datsets:\n",
    "\n",
    "1. Incorrect values - MIMIC-II was not collected for research and is a combination of two different electronic medical record systems (CareVue and Metavision). This increase the likelihood of inaccuracies in data entry and extraction.\n",
    "\n",
    "2. Missing data/sparseness: there is variation in the information recorded between patients due to different uses of the EMR (e.g. use of a separate system for recording lab results, or medications) across time, and the data being collected for clinical relevance rather than research.\n",
    "\n",
    "All patients have a unique identifying ID (subject_id), a hospital stay ID (hadm_id) and an ICU stay ID (icustay_id). These IDs can be used to identify readmissions to hospital and ICU."
   ],
   "cell_type": "markdown",
   "metadata": {}
  },
  {
   "source": [
    "## Imports"
   ],
   "cell_type": "markdown",
   "metadata": {}
  },
  {
   "cell_type": "code",
   "execution_count": 1,
   "metadata": {},
   "outputs": [],
   "source": [
    "import pandas as pd\n",
    "import numpy as np \n",
    "import seaborn as sns\n",
    "sns.set_style(\"darkgrid\")\n",
    "import matplotlib.pyplot as plt \n"
   ]
  },
  {
   "source": [
    "## Load in datasets"
   ],
   "cell_type": "markdown",
   "metadata": {}
  },
  {
   "cell_type": "code",
   "execution_count": 2,
   "metadata": {},
   "outputs": [
    {
     "output_type": "execute_result",
     "data": {
      "text/plain": [
       "   row_id  subject_id gender                  dob                  dod  \\\n",
       "0     234         249      F  2075-03-13 00:00:00                  NaN   \n",
       "1     235         250      F  2164-12-27 00:00:00  2188-11-22 00:00:00   \n",
       "2     236         251      M  2090-03-15 00:00:00                  NaN   \n",
       "3     237         252      M  2078-03-06 00:00:00                  NaN   \n",
       "4     238         253      F  2089-11-26 00:00:00                  NaN   \n",
       "\n",
       "              dod_hosp dod_ssn  expire_flag  \n",
       "0                  NaN     NaN            0  \n",
       "1  2188-11-22 00:00:00     NaN            1  \n",
       "2                  NaN     NaN            0  \n",
       "3                  NaN     NaN            0  \n",
       "4                  NaN     NaN            0  "
      ],
      "text/html": "<div>\n<style scoped>\n    .dataframe tbody tr th:only-of-type {\n        vertical-align: middle;\n    }\n\n    .dataframe tbody tr th {\n        vertical-align: top;\n    }\n\n    .dataframe thead th {\n        text-align: right;\n    }\n</style>\n<table border=\"1\" class=\"dataframe\">\n  <thead>\n    <tr style=\"text-align: right;\">\n      <th></th>\n      <th>row_id</th>\n      <th>subject_id</th>\n      <th>gender</th>\n      <th>dob</th>\n      <th>dod</th>\n      <th>dod_hosp</th>\n      <th>dod_ssn</th>\n      <th>expire_flag</th>\n    </tr>\n  </thead>\n  <tbody>\n    <tr>\n      <th>0</th>\n      <td>234</td>\n      <td>249</td>\n      <td>F</td>\n      <td>2075-03-13 00:00:00</td>\n      <td>NaN</td>\n      <td>NaN</td>\n      <td>NaN</td>\n      <td>0</td>\n    </tr>\n    <tr>\n      <th>1</th>\n      <td>235</td>\n      <td>250</td>\n      <td>F</td>\n      <td>2164-12-27 00:00:00</td>\n      <td>2188-11-22 00:00:00</td>\n      <td>2188-11-22 00:00:00</td>\n      <td>NaN</td>\n      <td>1</td>\n    </tr>\n    <tr>\n      <th>2</th>\n      <td>236</td>\n      <td>251</td>\n      <td>M</td>\n      <td>2090-03-15 00:00:00</td>\n      <td>NaN</td>\n      <td>NaN</td>\n      <td>NaN</td>\n      <td>0</td>\n    </tr>\n    <tr>\n      <th>3</th>\n      <td>237</td>\n      <td>252</td>\n      <td>M</td>\n      <td>2078-03-06 00:00:00</td>\n      <td>NaN</td>\n      <td>NaN</td>\n      <td>NaN</td>\n      <td>0</td>\n    </tr>\n    <tr>\n      <th>4</th>\n      <td>238</td>\n      <td>253</td>\n      <td>F</td>\n      <td>2089-11-26 00:00:00</td>\n      <td>NaN</td>\n      <td>NaN</td>\n      <td>NaN</td>\n      <td>0</td>\n    </tr>\n  </tbody>\n</table>\n</div>"
     },
     "metadata": {},
     "execution_count": 2
    }
   ],
   "source": [
    "patients = pd.read_csv('mimic_data/patients.csv') # https://mimic.physionet.org/mimictables/patients/\n",
    "# Table purpose: Defines each SUBJECT_ID in the database, i.e. defines a single patient\n",
    "# Links to: ADMISSIONS on SUBJECT_ID, ICUSTAYS on SUBJECT_ID\n",
    "patients.head()"
   ]
  },
  {
   "cell_type": "code",
   "execution_count": 3,
   "metadata": {},
   "outputs": [
    {
     "output_type": "execute_result",
     "data": {
      "text/plain": [
       "0    30761\n",
       "1    15759\n",
       "Name: expire_flag, dtype: int64"
      ]
     },
     "metadata": {},
     "execution_count": 3
    }
   ],
   "source": [
    "patients['expire_flag'].value_counts()"
   ]
  },
  {
   "cell_type": "code",
   "execution_count": 4,
   "metadata": {},
   "outputs": [
    {
     "output_type": "execute_result",
     "data": {
      "text/plain": [
       "   row_id  subject_id  hadm_id            admittime            dischtime  \\\n",
       "0      21          22   165315  2196-04-09 12:26:00  2196-04-10 15:54:00   \n",
       "1      22          23   152223  2153-09-03 07:15:00  2153-09-08 19:10:00   \n",
       "2      23          23   124321  2157-10-18 19:34:00  2157-10-25 14:00:00   \n",
       "3      24          24   161859  2139-06-06 16:14:00  2139-06-09 12:48:00   \n",
       "4      25          25   129635  2160-11-02 02:06:00  2160-11-05 14:55:00   \n",
       "\n",
       "  deathtime admission_type         admission_location  \\\n",
       "0       NaN      EMERGENCY       EMERGENCY ROOM ADMIT   \n",
       "1       NaN       ELECTIVE  PHYS REFERRAL/NORMAL DELI   \n",
       "2       NaN      EMERGENCY  TRANSFER FROM HOSP/EXTRAM   \n",
       "3       NaN      EMERGENCY  TRANSFER FROM HOSP/EXTRAM   \n",
       "4       NaN      EMERGENCY       EMERGENCY ROOM ADMIT   \n",
       "\n",
       "          discharge_location insurance language           religion  \\\n",
       "0  DISC-TRAN CANCER/CHLDRN H   Private      NaN       UNOBTAINABLE   \n",
       "1           HOME HEALTH CARE  Medicare      NaN           CATHOLIC   \n",
       "2           HOME HEALTH CARE  Medicare     ENGL           CATHOLIC   \n",
       "3                       HOME   Private      NaN  PROTESTANT QUAKER   \n",
       "4                       HOME   Private      NaN       UNOBTAINABLE   \n",
       "\n",
       "  marital_status ethnicity            edregtime            edouttime  \\\n",
       "0        MARRIED     WHITE  2196-04-09 10:06:00  2196-04-09 13:24:00   \n",
       "1        MARRIED     WHITE                  NaN                  NaN   \n",
       "2        MARRIED     WHITE                  NaN                  NaN   \n",
       "3         SINGLE     WHITE                  NaN                  NaN   \n",
       "4        MARRIED     WHITE  2160-11-02 01:01:00  2160-11-02 04:27:00   \n",
       "\n",
       "                                           diagnosis  hospital_expire_flag  \\\n",
       "0                            BENZODIAZEPINE OVERDOSE                     0   \n",
       "1  CORONARY ARTERY DISEASE\\CORONARY ARTERY BYPASS...                     0   \n",
       "2                                         BRAIN MASS                     0   \n",
       "3                     INTERIOR MYOCARDIAL INFARCTION                     0   \n",
       "4                            ACUTE CORONARY SYNDROME                     0   \n",
       "\n",
       "   has_chartevents_data  \n",
       "0                     1  \n",
       "1                     1  \n",
       "2                     1  \n",
       "3                     1  \n",
       "4                     1  "
      ],
      "text/html": "<div>\n<style scoped>\n    .dataframe tbody tr th:only-of-type {\n        vertical-align: middle;\n    }\n\n    .dataframe tbody tr th {\n        vertical-align: top;\n    }\n\n    .dataframe thead th {\n        text-align: right;\n    }\n</style>\n<table border=\"1\" class=\"dataframe\">\n  <thead>\n    <tr style=\"text-align: right;\">\n      <th></th>\n      <th>row_id</th>\n      <th>subject_id</th>\n      <th>hadm_id</th>\n      <th>admittime</th>\n      <th>dischtime</th>\n      <th>deathtime</th>\n      <th>admission_type</th>\n      <th>admission_location</th>\n      <th>discharge_location</th>\n      <th>insurance</th>\n      <th>language</th>\n      <th>religion</th>\n      <th>marital_status</th>\n      <th>ethnicity</th>\n      <th>edregtime</th>\n      <th>edouttime</th>\n      <th>diagnosis</th>\n      <th>hospital_expire_flag</th>\n      <th>has_chartevents_data</th>\n    </tr>\n  </thead>\n  <tbody>\n    <tr>\n      <th>0</th>\n      <td>21</td>\n      <td>22</td>\n      <td>165315</td>\n      <td>2196-04-09 12:26:00</td>\n      <td>2196-04-10 15:54:00</td>\n      <td>NaN</td>\n      <td>EMERGENCY</td>\n      <td>EMERGENCY ROOM ADMIT</td>\n      <td>DISC-TRAN CANCER/CHLDRN H</td>\n      <td>Private</td>\n      <td>NaN</td>\n      <td>UNOBTAINABLE</td>\n      <td>MARRIED</td>\n      <td>WHITE</td>\n      <td>2196-04-09 10:06:00</td>\n      <td>2196-04-09 13:24:00</td>\n      <td>BENZODIAZEPINE OVERDOSE</td>\n      <td>0</td>\n      <td>1</td>\n    </tr>\n    <tr>\n      <th>1</th>\n      <td>22</td>\n      <td>23</td>\n      <td>152223</td>\n      <td>2153-09-03 07:15:00</td>\n      <td>2153-09-08 19:10:00</td>\n      <td>NaN</td>\n      <td>ELECTIVE</td>\n      <td>PHYS REFERRAL/NORMAL DELI</td>\n      <td>HOME HEALTH CARE</td>\n      <td>Medicare</td>\n      <td>NaN</td>\n      <td>CATHOLIC</td>\n      <td>MARRIED</td>\n      <td>WHITE</td>\n      <td>NaN</td>\n      <td>NaN</td>\n      <td>CORONARY ARTERY DISEASE\\CORONARY ARTERY BYPASS...</td>\n      <td>0</td>\n      <td>1</td>\n    </tr>\n    <tr>\n      <th>2</th>\n      <td>23</td>\n      <td>23</td>\n      <td>124321</td>\n      <td>2157-10-18 19:34:00</td>\n      <td>2157-10-25 14:00:00</td>\n      <td>NaN</td>\n      <td>EMERGENCY</td>\n      <td>TRANSFER FROM HOSP/EXTRAM</td>\n      <td>HOME HEALTH CARE</td>\n      <td>Medicare</td>\n      <td>ENGL</td>\n      <td>CATHOLIC</td>\n      <td>MARRIED</td>\n      <td>WHITE</td>\n      <td>NaN</td>\n      <td>NaN</td>\n      <td>BRAIN MASS</td>\n      <td>0</td>\n      <td>1</td>\n    </tr>\n    <tr>\n      <th>3</th>\n      <td>24</td>\n      <td>24</td>\n      <td>161859</td>\n      <td>2139-06-06 16:14:00</td>\n      <td>2139-06-09 12:48:00</td>\n      <td>NaN</td>\n      <td>EMERGENCY</td>\n      <td>TRANSFER FROM HOSP/EXTRAM</td>\n      <td>HOME</td>\n      <td>Private</td>\n      <td>NaN</td>\n      <td>PROTESTANT QUAKER</td>\n      <td>SINGLE</td>\n      <td>WHITE</td>\n      <td>NaN</td>\n      <td>NaN</td>\n      <td>INTERIOR MYOCARDIAL INFARCTION</td>\n      <td>0</td>\n      <td>1</td>\n    </tr>\n    <tr>\n      <th>4</th>\n      <td>25</td>\n      <td>25</td>\n      <td>129635</td>\n      <td>2160-11-02 02:06:00</td>\n      <td>2160-11-05 14:55:00</td>\n      <td>NaN</td>\n      <td>EMERGENCY</td>\n      <td>EMERGENCY ROOM ADMIT</td>\n      <td>HOME</td>\n      <td>Private</td>\n      <td>NaN</td>\n      <td>UNOBTAINABLE</td>\n      <td>MARRIED</td>\n      <td>WHITE</td>\n      <td>2160-11-02 01:01:00</td>\n      <td>2160-11-02 04:27:00</td>\n      <td>ACUTE CORONARY SYNDROME</td>\n      <td>0</td>\n      <td>1</td>\n    </tr>\n  </tbody>\n</table>\n</div>"
     },
     "metadata": {},
     "execution_count": 4
    }
   ],
   "source": [
    "admissions = pd.read_csv('mimic_data/admissions.csv') # https://mimic.physionet.org/mimictables/admissions/\n",
    "# Table purpose: Define a patient’s hospital admission, HADM_ID.\n",
    "# Links to PATIENTS on SUBJECT_ID\n",
    "admissions.head()"
   ]
  },
  {
   "cell_type": "code",
   "execution_count": 5,
   "metadata": {},
   "outputs": [
    {
     "output_type": "execute_result",
     "data": {
      "text/plain": [
       "   row_id  subject_id  hadm_id  icustay_id dbsource first_careunit  \\\n",
       "0     365         268   110404      280836  carevue           MICU   \n",
       "1     366         269   106296      206613  carevue           MICU   \n",
       "2     367         270   188028      220345  carevue            CCU   \n",
       "3     368         271   173727      249196  carevue           MICU   \n",
       "4     369         272   164716      210407  carevue            CCU   \n",
       "\n",
       "  last_careunit  first_wardid  last_wardid               intime  \\\n",
       "0          MICU            52           52  2198-02-14 23:27:38   \n",
       "1          MICU            52           52  2170-11-05 11:05:29   \n",
       "2           CCU            57           57  2128-06-24 15:05:20   \n",
       "3          SICU            52           23  2120-08-07 23:12:42   \n",
       "4           CCU            57           57  2186-12-25 21:08:04   \n",
       "\n",
       "               outtime     los  \n",
       "0  2198-02-18 05:26:11  3.2490  \n",
       "1  2170-11-08 17:46:57  3.2788  \n",
       "2  2128-06-27 12:32:29  2.8939  \n",
       "3  2120-08-10 00:39:04  2.0600  \n",
       "4  2186-12-27 12:01:13  1.6202  "
      ],
      "text/html": "<div>\n<style scoped>\n    .dataframe tbody tr th:only-of-type {\n        vertical-align: middle;\n    }\n\n    .dataframe tbody tr th {\n        vertical-align: top;\n    }\n\n    .dataframe thead th {\n        text-align: right;\n    }\n</style>\n<table border=\"1\" class=\"dataframe\">\n  <thead>\n    <tr style=\"text-align: right;\">\n      <th></th>\n      <th>row_id</th>\n      <th>subject_id</th>\n      <th>hadm_id</th>\n      <th>icustay_id</th>\n      <th>dbsource</th>\n      <th>first_careunit</th>\n      <th>last_careunit</th>\n      <th>first_wardid</th>\n      <th>last_wardid</th>\n      <th>intime</th>\n      <th>outtime</th>\n      <th>los</th>\n    </tr>\n  </thead>\n  <tbody>\n    <tr>\n      <th>0</th>\n      <td>365</td>\n      <td>268</td>\n      <td>110404</td>\n      <td>280836</td>\n      <td>carevue</td>\n      <td>MICU</td>\n      <td>MICU</td>\n      <td>52</td>\n      <td>52</td>\n      <td>2198-02-14 23:27:38</td>\n      <td>2198-02-18 05:26:11</td>\n      <td>3.2490</td>\n    </tr>\n    <tr>\n      <th>1</th>\n      <td>366</td>\n      <td>269</td>\n      <td>106296</td>\n      <td>206613</td>\n      <td>carevue</td>\n      <td>MICU</td>\n      <td>MICU</td>\n      <td>52</td>\n      <td>52</td>\n      <td>2170-11-05 11:05:29</td>\n      <td>2170-11-08 17:46:57</td>\n      <td>3.2788</td>\n    </tr>\n    <tr>\n      <th>2</th>\n      <td>367</td>\n      <td>270</td>\n      <td>188028</td>\n      <td>220345</td>\n      <td>carevue</td>\n      <td>CCU</td>\n      <td>CCU</td>\n      <td>57</td>\n      <td>57</td>\n      <td>2128-06-24 15:05:20</td>\n      <td>2128-06-27 12:32:29</td>\n      <td>2.8939</td>\n    </tr>\n    <tr>\n      <th>3</th>\n      <td>368</td>\n      <td>271</td>\n      <td>173727</td>\n      <td>249196</td>\n      <td>carevue</td>\n      <td>MICU</td>\n      <td>SICU</td>\n      <td>52</td>\n      <td>23</td>\n      <td>2120-08-07 23:12:42</td>\n      <td>2120-08-10 00:39:04</td>\n      <td>2.0600</td>\n    </tr>\n    <tr>\n      <th>4</th>\n      <td>369</td>\n      <td>272</td>\n      <td>164716</td>\n      <td>210407</td>\n      <td>carevue</td>\n      <td>CCU</td>\n      <td>CCU</td>\n      <td>57</td>\n      <td>57</td>\n      <td>2186-12-25 21:08:04</td>\n      <td>2186-12-27 12:01:13</td>\n      <td>1.6202</td>\n    </tr>\n  </tbody>\n</table>\n</div>"
     },
     "metadata": {},
     "execution_count": 5
    }
   ],
   "source": [
    "icu_stay = pd.read_csv('mimic_data/icustays.csv') # https://mimic.physionet.org/mimictables/icustays/\n",
    "# Table purpose: Defines each ICUSTAY_ID in the database, i.e. defines a single ICU stay.\n",
    "# Links to: PATIENTS on SUBJECT_ID, ADMISSIONS on HADM_ID\n",
    "icu_stay.head()"
   ]
  },
  {
   "cell_type": "code",
   "execution_count": 6,
   "metadata": {},
   "outputs": [
    {
     "output_type": "execute_result",
     "data": {
      "text/plain": [
       "   row_id  subject_id                  dob  hadm_id            admittime  \\\n",
       "0       1           2  2138-07-17 00:00:00   163353  2138-07-17 19:04:00   \n",
       "1       2           3  2025-04-11 00:00:00   145834  2101-10-20 19:08:00   \n",
       "2       3           4  2143-05-12 00:00:00   185777  2191-03-16 00:28:00   \n",
       "3       4           5  2103-02-02 00:00:00   178980  2103-02-02 04:31:00   \n",
       "4       5           6  2109-06-21 00:00:00   107064  2175-05-30 07:15:00   \n",
       "\n",
       "             dischtime  icustay_id  age_years               intime  \\\n",
       "0  2138-07-21 15:48:00      243653        0.0  2138-07-17 21:20:07   \n",
       "1  2101-10-31 13:58:00      211552       76.0  2101-10-20 19:10:11   \n",
       "2  2191-03-23 18:41:00      294638       47.0  2191-03-16 00:29:31   \n",
       "3  2103-02-04 12:15:00      214757        0.0  2103-02-02 06:04:24   \n",
       "4  2175-06-15 16:00:00      228232       65.0  2175-05-30 21:30:54   \n",
       "\n",
       "               outtime     los hosp_deathtime  icu_expire_flag  \\\n",
       "0  2138-07-17 23:32:21  0.0918            NaN                0   \n",
       "1  2101-10-26 20:43:09  6.0646            NaN                0   \n",
       "2  2191-03-17 16:46:31  1.6785            NaN                0   \n",
       "3  2103-02-02 08:06:00  0.0844            NaN                0   \n",
       "4  2175-06-03 13:39:54  3.6729            NaN                0   \n",
       "\n",
       "   hospital_expire_flag                  dod  expire_flag  ttd_days  \n",
       "0                   0.0                  NaN            0       NaN  \n",
       "1                   0.0  2102-06-14 00:00:00            1     236.0  \n",
       "2                   0.0                  NaN            0       NaN  \n",
       "3                   0.0                  NaN            0       NaN  \n",
       "4                   0.0                  NaN            0       NaN  "
      ],
      "text/html": "<div>\n<style scoped>\n    .dataframe tbody tr th:only-of-type {\n        vertical-align: middle;\n    }\n\n    .dataframe tbody tr th {\n        vertical-align: top;\n    }\n\n    .dataframe thead th {\n        text-align: right;\n    }\n</style>\n<table border=\"1\" class=\"dataframe\">\n  <thead>\n    <tr style=\"text-align: right;\">\n      <th></th>\n      <th>row_id</th>\n      <th>subject_id</th>\n      <th>dob</th>\n      <th>hadm_id</th>\n      <th>admittime</th>\n      <th>dischtime</th>\n      <th>icustay_id</th>\n      <th>age_years</th>\n      <th>intime</th>\n      <th>outtime</th>\n      <th>los</th>\n      <th>hosp_deathtime</th>\n      <th>icu_expire_flag</th>\n      <th>hospital_expire_flag</th>\n      <th>dod</th>\n      <th>expire_flag</th>\n      <th>ttd_days</th>\n    </tr>\n  </thead>\n  <tbody>\n    <tr>\n      <th>0</th>\n      <td>1</td>\n      <td>2</td>\n      <td>2138-07-17 00:00:00</td>\n      <td>163353</td>\n      <td>2138-07-17 19:04:00</td>\n      <td>2138-07-21 15:48:00</td>\n      <td>243653</td>\n      <td>0.0</td>\n      <td>2138-07-17 21:20:07</td>\n      <td>2138-07-17 23:32:21</td>\n      <td>0.0918</td>\n      <td>NaN</td>\n      <td>0</td>\n      <td>0.0</td>\n      <td>NaN</td>\n      <td>0</td>\n      <td>NaN</td>\n    </tr>\n    <tr>\n      <th>1</th>\n      <td>2</td>\n      <td>3</td>\n      <td>2025-04-11 00:00:00</td>\n      <td>145834</td>\n      <td>2101-10-20 19:08:00</td>\n      <td>2101-10-31 13:58:00</td>\n      <td>211552</td>\n      <td>76.0</td>\n      <td>2101-10-20 19:10:11</td>\n      <td>2101-10-26 20:43:09</td>\n      <td>6.0646</td>\n      <td>NaN</td>\n      <td>0</td>\n      <td>0.0</td>\n      <td>2102-06-14 00:00:00</td>\n      <td>1</td>\n      <td>236.0</td>\n    </tr>\n    <tr>\n      <th>2</th>\n      <td>3</td>\n      <td>4</td>\n      <td>2143-05-12 00:00:00</td>\n      <td>185777</td>\n      <td>2191-03-16 00:28:00</td>\n      <td>2191-03-23 18:41:00</td>\n      <td>294638</td>\n      <td>47.0</td>\n      <td>2191-03-16 00:29:31</td>\n      <td>2191-03-17 16:46:31</td>\n      <td>1.6785</td>\n      <td>NaN</td>\n      <td>0</td>\n      <td>0.0</td>\n      <td>NaN</td>\n      <td>0</td>\n      <td>NaN</td>\n    </tr>\n    <tr>\n      <th>3</th>\n      <td>4</td>\n      <td>5</td>\n      <td>2103-02-02 00:00:00</td>\n      <td>178980</td>\n      <td>2103-02-02 04:31:00</td>\n      <td>2103-02-04 12:15:00</td>\n      <td>214757</td>\n      <td>0.0</td>\n      <td>2103-02-02 06:04:24</td>\n      <td>2103-02-02 08:06:00</td>\n      <td>0.0844</td>\n      <td>NaN</td>\n      <td>0</td>\n      <td>0.0</td>\n      <td>NaN</td>\n      <td>0</td>\n      <td>NaN</td>\n    </tr>\n    <tr>\n      <th>4</th>\n      <td>5</td>\n      <td>6</td>\n      <td>2109-06-21 00:00:00</td>\n      <td>107064</td>\n      <td>2175-05-30 07:15:00</td>\n      <td>2175-06-15 16:00:00</td>\n      <td>228232</td>\n      <td>65.0</td>\n      <td>2175-05-30 21:30:54</td>\n      <td>2175-06-03 13:39:54</td>\n      <td>3.6729</td>\n      <td>NaN</td>\n      <td>0</td>\n      <td>0.0</td>\n      <td>NaN</td>\n      <td>0</td>\n      <td>NaN</td>\n    </tr>\n  </tbody>\n</table>\n</div>"
     },
     "metadata": {},
     "execution_count": 6
    }
   ],
   "source": [
    "pt_icu_outcome = pd.read_csv('mimic_data/pt_icu_outcome.csv')\n",
    "pt_icu_outcome.head()"
   ]
  },
  {
   "cell_type": "code",
   "execution_count": 7,
   "metadata": {},
   "outputs": [
    {
     "output_type": "execute_result",
     "data": {
      "text/plain": [
       "0    0.606845\n",
       "1    0.393155\n",
       "Name: expire_flag, dtype: float64"
      ]
     },
     "metadata": {},
     "execution_count": 7
    }
   ],
   "source": [
    "pt_icu_outcome['expire_flag'].value_counts(normalize=True)"
   ]
  },
  {
   "cell_type": "code",
   "execution_count": 8,
   "metadata": {},
   "outputs": [
    {
     "output_type": "execute_result",
     "data": {
      "text/plain": [
       "transfer     144045\n",
       "discharge     58919\n",
       "admit         58909\n",
       "Name: eventtype, dtype: int64"
      ]
     },
     "metadata": {},
     "execution_count": 8
    }
   ],
   "source": [
    "tranfers = pd.read_csv('mimic_data/transfers.csv')\n",
    "tranfers['eventtype'].value_counts()"
   ]
  },
  {
   "cell_type": "code",
   "execution_count": 10,
   "metadata": {},
   "outputs": [
    {
     "output_type": "execute_result",
     "data": {
      "text/plain": [
       "   icustay_id  hadm_id  subject_id               intime              outtime  \\\n",
       "0      200001   152234       55973  2181-11-25 19:06:12  2181-11-28 20:59:25   \n",
       "1      200001   152234       55973  2181-11-25 19:06:12  2181-11-28 20:59:25   \n",
       "2      200001   152234       55973  2181-11-25 19:06:12  2181-11-28 20:59:25   \n",
       "3      200001   152234       55973  2181-11-25 19:06:12  2181-11-28 20:59:25   \n",
       "4      200001   152234       55973  2181-11-25 19:06:12  2181-11-28 20:59:25   \n",
       "\n",
       "             starttime              endtime    hr   dy  \n",
       "0  2181-11-24 19:06:12  2181-11-24 20:06:12 -24.0  0.0  \n",
       "1  2181-11-24 20:06:12  2181-11-24 21:06:12 -23.0  0.0  \n",
       "2  2181-11-24 21:06:12  2181-11-24 22:06:12 -22.0  0.0  \n",
       "3  2181-11-24 22:06:12  2181-11-24 23:06:12 -21.0  0.0  \n",
       "4  2181-11-24 23:06:12  2181-11-25 00:06:12 -20.0  0.0  "
      ],
      "text/html": "<div>\n<style scoped>\n    .dataframe tbody tr th:only-of-type {\n        vertical-align: middle;\n    }\n\n    .dataframe tbody tr th {\n        vertical-align: top;\n    }\n\n    .dataframe thead th {\n        text-align: right;\n    }\n</style>\n<table border=\"1\" class=\"dataframe\">\n  <thead>\n    <tr style=\"text-align: right;\">\n      <th></th>\n      <th>icustay_id</th>\n      <th>hadm_id</th>\n      <th>subject_id</th>\n      <th>intime</th>\n      <th>outtime</th>\n      <th>starttime</th>\n      <th>endtime</th>\n      <th>hr</th>\n      <th>dy</th>\n    </tr>\n  </thead>\n  <tbody>\n    <tr>\n      <th>0</th>\n      <td>200001</td>\n      <td>152234</td>\n      <td>55973</td>\n      <td>2181-11-25 19:06:12</td>\n      <td>2181-11-28 20:59:25</td>\n      <td>2181-11-24 19:06:12</td>\n      <td>2181-11-24 20:06:12</td>\n      <td>-24.0</td>\n      <td>0.0</td>\n    </tr>\n    <tr>\n      <th>1</th>\n      <td>200001</td>\n      <td>152234</td>\n      <td>55973</td>\n      <td>2181-11-25 19:06:12</td>\n      <td>2181-11-28 20:59:25</td>\n      <td>2181-11-24 20:06:12</td>\n      <td>2181-11-24 21:06:12</td>\n      <td>-23.0</td>\n      <td>0.0</td>\n    </tr>\n    <tr>\n      <th>2</th>\n      <td>200001</td>\n      <td>152234</td>\n      <td>55973</td>\n      <td>2181-11-25 19:06:12</td>\n      <td>2181-11-28 20:59:25</td>\n      <td>2181-11-24 21:06:12</td>\n      <td>2181-11-24 22:06:12</td>\n      <td>-22.0</td>\n      <td>0.0</td>\n    </tr>\n    <tr>\n      <th>3</th>\n      <td>200001</td>\n      <td>152234</td>\n      <td>55973</td>\n      <td>2181-11-25 19:06:12</td>\n      <td>2181-11-28 20:59:25</td>\n      <td>2181-11-24 22:06:12</td>\n      <td>2181-11-24 23:06:12</td>\n      <td>-21.0</td>\n      <td>0.0</td>\n    </tr>\n    <tr>\n      <th>4</th>\n      <td>200001</td>\n      <td>152234</td>\n      <td>55973</td>\n      <td>2181-11-25 19:06:12</td>\n      <td>2181-11-28 20:59:25</td>\n      <td>2181-11-24 23:06:12</td>\n      <td>2181-11-25 00:06:12</td>\n      <td>-20.0</td>\n      <td>0.0</td>\n    </tr>\n  </tbody>\n</table>\n</div>"
     },
     "metadata": {},
     "execution_count": 10
    }
   ],
   "source": [
    "pt_stay_hr = pd.read_csv('mimic_data/pt_stay_hr.csv')\n",
    "pt_stay_hr.head()"
   ]
  },
  {
   "cell_type": "code",
   "execution_count": null,
   "metadata": {},
   "outputs": [],
   "source": []
  }
 ]
}