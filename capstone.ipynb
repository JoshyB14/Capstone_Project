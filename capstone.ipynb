{
 "metadata": {
  "language_info": {
   "codemirror_mode": {
    "name": "ipython",
    "version": 3
   },
   "file_extension": ".py",
   "mimetype": "text/x-python",
   "name": "python",
   "nbconvert_exporter": "python",
   "pygments_lexer": "ipython3",
   "version": 3
  },
  "orig_nbformat": 2
 },
 "nbformat": 4,
 "nbformat_minor": 2,
 "cells": [
  {
   "source": [
    "# HDAT Capstone Project\n",
    "\n",
    "## Research Question - Mortality prediction in the ICU:\n",
    "\n",
    "#### Task - The task is to build a predictive algorithm using the techniques we learned in this course\n",
    "#### Objective - To assess the role of machine learning algorithms for predicting mortality by using the MIMIC-II dataset\n",
    "#### Question - Is it possible to accurately predict mortality based on data from the first 24 hours in ICU?\n",
    "#### Study population - MIMIC-II dataset"
   ],
   "cell_type": "markdown",
   "metadata": {}
  },
  {
   "source": [
    "Notes about the datsets:\n",
    "\n",
    "1. Incorrect values - MIMIC-II was not collected for research and is"
   ],
   "cell_type": "markdown",
   "metadata": {}
  }
 ]
}