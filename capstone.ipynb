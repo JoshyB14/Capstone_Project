{
 "metadata": {
  "language_info": {
   "codemirror_mode": {
    "name": "ipython",
    "version": 3
   },
   "file_extension": ".py",
   "mimetype": "text/x-python",
   "name": "python",
   "nbconvert_exporter": "python",
   "pygments_lexer": "ipython3",
   "version": 3
  },
  "orig_nbformat": 2
 },
 "nbformat": 4,
 "nbformat_minor": 2,
 "cells": [
  {
   "source": [
    "# HDAT Capstone Project\n",
    "\n",
    "## Research Question - Mortality prediction in the ICU:\n",
    "\n",
    "#### Task - The task is to build a predictive algorithm using the techniques we learned in this course\n",
    "#### Objective - To assess the role of machine learning algorithms for predicting mortality by using the MIMIC-II dataset\n",
    "#### Question - Is it possible to accurately predict mortality based on data from the first 24 hours in ICU?\n",
    "#### Study population - MIMIC-II dataset"
   ],
   "cell_type": "markdown",
   "metadata": {}
  },
  {
   "source": [
    "Notes about the datsets:\n",
    "\n",
    "1. Incorrect values - MIMIC-II was not collected for research and is a combination of two different electronic medical record systems (CareVue and Metavision). This increase the likelihood of inaccuracies in data entry and extraction.\n",
    "\n",
    "2. Missing data/sparseness: there is variation in the information recorded between patients due to different uses of the EMR (e.g. use of a separate system for recording lab results, or medications) across time, and the data being collected for clinical relevance rather than research.\n",
    "\n",
    "All patients have a unique identifying ID (subject_id), a hospital stay ID (hadm_id) and an ICU stay ID (icustay_id). These IDs can be used to identify readmissions to hospital and ICU."
   ],
   "cell_type": "markdown",
   "metadata": {}
  },
  {
   "cell_type": "code",
   "execution_count": null,
   "metadata": {},
   "outputs": [],
   "source": []
  }
 ]
}