{
 "metadata": {
  "language_info": {
   "codemirror_mode": {
    "name": "ipython",
    "version": 3
   },
   "file_extension": ".py",
   "mimetype": "text/x-python",
   "name": "python",
   "nbconvert_exporter": "python",
   "pygments_lexer": "ipython3",
   "version": "3.7.10-final"
  },
  "orig_nbformat": 2,
  "kernelspec": {
   "name": "python3710jvsc74a57bd068defebf30e105fd598f0422c5fd98138979505923524d82e791ee03238adf52",
   "display_name": "Python 3.7.10 64-bit ('capstone': conda)"
  }
 },
 "nbformat": 4,
 "nbformat_minor": 2,
 "cells": [
  {
   "source": [
    "# HDAT Capstone Project\n",
    "\n",
    "## Research Question - Mortality prediction in the ICU:\n",
    "\n",
    "#### Task - The task is to build a predictive algorithm using the techniques we learned in this course\n",
    "#### Objective - To assess the role of machine learning algorithms for predicting mortality by using the MIMIC-II dataset\n",
    "#### Question - Is it possible to accurately predict mortality based on data from the first 24 hours in ICU?\n",
    "#### Study population - MIMIC-II dataset"
   ],
   "cell_type": "markdown",
   "metadata": {}
  },
  {
   "source": [
    "Notes about the datsets:\n",
    "\n",
    "1. Incorrect values - MIMIC-II was not collected for research and is a combination of two different electronic medical record systems (CareVue and Metavision). This increase the likelihood of inaccuracies in data entry and extraction.\n",
    "\n",
    "2. Missing data/sparseness: there is variation in the information recorded between patients due to different uses of the EMR (e.g. use of a separate system for recording lab results, or medications) across time, and the data being collected for clinical relevance rather than research.\n",
    "\n",
    "All patients have a unique identifying ID (subject_id), a hospital stay ID (hadm_id) and an ICU stay ID (icustay_id). These IDs can be used to identify readmissions to hospital and ICU."
   ],
   "cell_type": "markdown",
   "metadata": {}
  },
  {
   "source": [
    "## Imports"
   ],
   "cell_type": "markdown",
   "metadata": {}
  },
  {
   "cell_type": "code",
   "execution_count": 44,
   "metadata": {},
   "outputs": [],
   "source": [
    "import pandas as pd\n",
    "pd.set_option('display.max_columns', None)\n",
    "import numpy as np \n",
    "import seaborn as sns\n",
    "sns.set_style(\"darkgrid\")\n",
    "import matplotlib.pyplot as plt \n"
   ]
  },
  {
   "source": [
    "## Load in datasets and merge"
   ],
   "cell_type": "markdown",
   "metadata": {}
  },
  {
   "cell_type": "code",
   "execution_count": 45,
   "metadata": {},
   "outputs": [
    {
     "output_type": "execute_result",
     "data": {
      "text/plain": [
       "   row_id  subject_id gender                  dob                  dod  \\\n",
       "0     234         249      F  2075-03-13 00:00:00                  NaN   \n",
       "1     235         250      F  2164-12-27 00:00:00  2188-11-22 00:00:00   \n",
       "2     236         251      M  2090-03-15 00:00:00                  NaN   \n",
       "3     237         252      M  2078-03-06 00:00:00                  NaN   \n",
       "4     238         253      F  2089-11-26 00:00:00                  NaN   \n",
       "\n",
       "              dod_hosp dod_ssn  expire_flag  \n",
       "0                  NaN     NaN            0  \n",
       "1  2188-11-22 00:00:00     NaN            1  \n",
       "2                  NaN     NaN            0  \n",
       "3                  NaN     NaN            0  \n",
       "4                  NaN     NaN            0  "
      ],
      "text/html": "<div>\n<style scoped>\n    .dataframe tbody tr th:only-of-type {\n        vertical-align: middle;\n    }\n\n    .dataframe tbody tr th {\n        vertical-align: top;\n    }\n\n    .dataframe thead th {\n        text-align: right;\n    }\n</style>\n<table border=\"1\" class=\"dataframe\">\n  <thead>\n    <tr style=\"text-align: right;\">\n      <th></th>\n      <th>row_id</th>\n      <th>subject_id</th>\n      <th>gender</th>\n      <th>dob</th>\n      <th>dod</th>\n      <th>dod_hosp</th>\n      <th>dod_ssn</th>\n      <th>expire_flag</th>\n    </tr>\n  </thead>\n  <tbody>\n    <tr>\n      <th>0</th>\n      <td>234</td>\n      <td>249</td>\n      <td>F</td>\n      <td>2075-03-13 00:00:00</td>\n      <td>NaN</td>\n      <td>NaN</td>\n      <td>NaN</td>\n      <td>0</td>\n    </tr>\n    <tr>\n      <th>1</th>\n      <td>235</td>\n      <td>250</td>\n      <td>F</td>\n      <td>2164-12-27 00:00:00</td>\n      <td>2188-11-22 00:00:00</td>\n      <td>2188-11-22 00:00:00</td>\n      <td>NaN</td>\n      <td>1</td>\n    </tr>\n    <tr>\n      <th>2</th>\n      <td>236</td>\n      <td>251</td>\n      <td>M</td>\n      <td>2090-03-15 00:00:00</td>\n      <td>NaN</td>\n      <td>NaN</td>\n      <td>NaN</td>\n      <td>0</td>\n    </tr>\n    <tr>\n      <th>3</th>\n      <td>237</td>\n      <td>252</td>\n      <td>M</td>\n      <td>2078-03-06 00:00:00</td>\n      <td>NaN</td>\n      <td>NaN</td>\n      <td>NaN</td>\n      <td>0</td>\n    </tr>\n    <tr>\n      <th>4</th>\n      <td>238</td>\n      <td>253</td>\n      <td>F</td>\n      <td>2089-11-26 00:00:00</td>\n      <td>NaN</td>\n      <td>NaN</td>\n      <td>NaN</td>\n      <td>0</td>\n    </tr>\n  </tbody>\n</table>\n</div>"
     },
     "metadata": {},
     "execution_count": 45
    }
   ],
   "source": [
    "patients = pd.read_csv('mimic_data/patients.csv') # https://mimic.physionet.org/mimictables/patients/\n",
    "# Table purpose: Defines each SUBJECT_ID in the database, i.e. defines a single patient\n",
    "# Links to: ADMISSIONS on SUBJECT_ID, ICUSTAYS on SUBJECT_ID\n",
    "patients.head()"
   ]
  },
  {
   "cell_type": "code",
   "execution_count": 46,
   "metadata": {},
   "outputs": [
    {
     "output_type": "execute_result",
     "data": {
      "text/plain": [
       "   subject_id gender                  dob\n",
       "0         249      F  2075-03-13 00:00:00\n",
       "1         250      F  2164-12-27 00:00:00\n",
       "2         251      M  2090-03-15 00:00:00\n",
       "3         252      M  2078-03-06 00:00:00\n",
       "4         253      F  2089-11-26 00:00:00"
      ],
      "text/html": "<div>\n<style scoped>\n    .dataframe tbody tr th:only-of-type {\n        vertical-align: middle;\n    }\n\n    .dataframe tbody tr th {\n        vertical-align: top;\n    }\n\n    .dataframe thead th {\n        text-align: right;\n    }\n</style>\n<table border=\"1\" class=\"dataframe\">\n  <thead>\n    <tr style=\"text-align: right;\">\n      <th></th>\n      <th>subject_id</th>\n      <th>gender</th>\n      <th>dob</th>\n    </tr>\n  </thead>\n  <tbody>\n    <tr>\n      <th>0</th>\n      <td>249</td>\n      <td>F</td>\n      <td>2075-03-13 00:00:00</td>\n    </tr>\n    <tr>\n      <th>1</th>\n      <td>250</td>\n      <td>F</td>\n      <td>2164-12-27 00:00:00</td>\n    </tr>\n    <tr>\n      <th>2</th>\n      <td>251</td>\n      <td>M</td>\n      <td>2090-03-15 00:00:00</td>\n    </tr>\n    <tr>\n      <th>3</th>\n      <td>252</td>\n      <td>M</td>\n      <td>2078-03-06 00:00:00</td>\n    </tr>\n    <tr>\n      <th>4</th>\n      <td>253</td>\n      <td>F</td>\n      <td>2089-11-26 00:00:00</td>\n    </tr>\n  </tbody>\n</table>\n</div>"
     },
     "metadata": {},
     "execution_count": 46
    }
   ],
   "source": [
    "# Select only columns of interest from patients\n",
    "patients = patients[['subject_id','gender','dob']]\n",
    "patients.head()"
   ]
  },
  {
   "cell_type": "code",
   "execution_count": 47,
   "metadata": {},
   "outputs": [
    {
     "output_type": "execute_result",
     "data": {
      "text/plain": [
       "   icustay_id  hadm_id  subject_id               intime              outtime  \\\n",
       "0      200001   152234       55973  2181-11-25 19:06:12  2181-11-28 20:59:25   \n",
       "1      200001   152234       55973  2181-11-25 19:06:12  2181-11-28 20:59:25   \n",
       "2      200001   152234       55973  2181-11-25 19:06:12  2181-11-28 20:59:25   \n",
       "3      200001   152234       55973  2181-11-25 19:06:12  2181-11-28 20:59:25   \n",
       "4      200001   152234       55973  2181-11-25 19:06:12  2181-11-28 20:59:25   \n",
       "\n",
       "             starttime              endtime    hr   dy  \n",
       "0  2181-11-24 19:06:12  2181-11-24 20:06:12 -24.0  0.0  \n",
       "1  2181-11-24 20:06:12  2181-11-24 21:06:12 -23.0  0.0  \n",
       "2  2181-11-24 21:06:12  2181-11-24 22:06:12 -22.0  0.0  \n",
       "3  2181-11-24 22:06:12  2181-11-24 23:06:12 -21.0  0.0  \n",
       "4  2181-11-24 23:06:12  2181-11-25 00:06:12 -20.0  0.0  "
      ],
      "text/html": "<div>\n<style scoped>\n    .dataframe tbody tr th:only-of-type {\n        vertical-align: middle;\n    }\n\n    .dataframe tbody tr th {\n        vertical-align: top;\n    }\n\n    .dataframe thead th {\n        text-align: right;\n    }\n</style>\n<table border=\"1\" class=\"dataframe\">\n  <thead>\n    <tr style=\"text-align: right;\">\n      <th></th>\n      <th>icustay_id</th>\n      <th>hadm_id</th>\n      <th>subject_id</th>\n      <th>intime</th>\n      <th>outtime</th>\n      <th>starttime</th>\n      <th>endtime</th>\n      <th>hr</th>\n      <th>dy</th>\n    </tr>\n  </thead>\n  <tbody>\n    <tr>\n      <th>0</th>\n      <td>200001</td>\n      <td>152234</td>\n      <td>55973</td>\n      <td>2181-11-25 19:06:12</td>\n      <td>2181-11-28 20:59:25</td>\n      <td>2181-11-24 19:06:12</td>\n      <td>2181-11-24 20:06:12</td>\n      <td>-24.0</td>\n      <td>0.0</td>\n    </tr>\n    <tr>\n      <th>1</th>\n      <td>200001</td>\n      <td>152234</td>\n      <td>55973</td>\n      <td>2181-11-25 19:06:12</td>\n      <td>2181-11-28 20:59:25</td>\n      <td>2181-11-24 20:06:12</td>\n      <td>2181-11-24 21:06:12</td>\n      <td>-23.0</td>\n      <td>0.0</td>\n    </tr>\n    <tr>\n      <th>2</th>\n      <td>200001</td>\n      <td>152234</td>\n      <td>55973</td>\n      <td>2181-11-25 19:06:12</td>\n      <td>2181-11-28 20:59:25</td>\n      <td>2181-11-24 21:06:12</td>\n      <td>2181-11-24 22:06:12</td>\n      <td>-22.0</td>\n      <td>0.0</td>\n    </tr>\n    <tr>\n      <th>3</th>\n      <td>200001</td>\n      <td>152234</td>\n      <td>55973</td>\n      <td>2181-11-25 19:06:12</td>\n      <td>2181-11-28 20:59:25</td>\n      <td>2181-11-24 22:06:12</td>\n      <td>2181-11-24 23:06:12</td>\n      <td>-21.0</td>\n      <td>0.0</td>\n    </tr>\n    <tr>\n      <th>4</th>\n      <td>200001</td>\n      <td>152234</td>\n      <td>55973</td>\n      <td>2181-11-25 19:06:12</td>\n      <td>2181-11-28 20:59:25</td>\n      <td>2181-11-24 23:06:12</td>\n      <td>2181-11-25 00:06:12</td>\n      <td>-20.0</td>\n      <td>0.0</td>\n    </tr>\n  </tbody>\n</table>\n</div>"
     },
     "metadata": {},
     "execution_count": 47
    }
   ],
   "source": [
    "# load in pt_stay_hr as the building block master table\n",
    "pt_stay_hr = pd.read_csv('mimic_data/pt_stay_hr.csv')\n",
    "pt_stay_hr.head()"
   ]
  },
  {
   "cell_type": "code",
   "execution_count": 48,
   "metadata": {},
   "outputs": [
    {
     "output_type": "execute_result",
     "data": {
      "text/plain": [
       "   icustay_id  hadm_id  subject_id               intime              outtime  \\\n",
       "0      200001   152234       55973  2181-11-25 19:06:12  2181-11-28 20:59:25   \n",
       "1      200001   152234       55973  2181-11-25 19:06:12  2181-11-28 20:59:25   \n",
       "2      200001   152234       55973  2181-11-25 19:06:12  2181-11-28 20:59:25   \n",
       "3      200001   152234       55973  2181-11-25 19:06:12  2181-11-28 20:59:25   \n",
       "4      200001   152234       55973  2181-11-25 19:06:12  2181-11-28 20:59:25   \n",
       "\n",
       "             starttime              endtime    hr   dy gender  \\\n",
       "0  2181-11-24 19:06:12  2181-11-24 20:06:12 -24.0  0.0      F   \n",
       "1  2181-11-24 20:06:12  2181-11-24 21:06:12 -23.0  0.0      F   \n",
       "2  2181-11-24 21:06:12  2181-11-24 22:06:12 -22.0  0.0      F   \n",
       "3  2181-11-24 22:06:12  2181-11-24 23:06:12 -21.0  0.0      F   \n",
       "4  2181-11-24 23:06:12  2181-11-25 00:06:12 -20.0  0.0      F   \n",
       "\n",
       "                   dob  \n",
       "0  2120-10-31 00:00:00  \n",
       "1  2120-10-31 00:00:00  \n",
       "2  2120-10-31 00:00:00  \n",
       "3  2120-10-31 00:00:00  \n",
       "4  2120-10-31 00:00:00  "
      ],
      "text/html": "<div>\n<style scoped>\n    .dataframe tbody tr th:only-of-type {\n        vertical-align: middle;\n    }\n\n    .dataframe tbody tr th {\n        vertical-align: top;\n    }\n\n    .dataframe thead th {\n        text-align: right;\n    }\n</style>\n<table border=\"1\" class=\"dataframe\">\n  <thead>\n    <tr style=\"text-align: right;\">\n      <th></th>\n      <th>icustay_id</th>\n      <th>hadm_id</th>\n      <th>subject_id</th>\n      <th>intime</th>\n      <th>outtime</th>\n      <th>starttime</th>\n      <th>endtime</th>\n      <th>hr</th>\n      <th>dy</th>\n      <th>gender</th>\n      <th>dob</th>\n    </tr>\n  </thead>\n  <tbody>\n    <tr>\n      <th>0</th>\n      <td>200001</td>\n      <td>152234</td>\n      <td>55973</td>\n      <td>2181-11-25 19:06:12</td>\n      <td>2181-11-28 20:59:25</td>\n      <td>2181-11-24 19:06:12</td>\n      <td>2181-11-24 20:06:12</td>\n      <td>-24.0</td>\n      <td>0.0</td>\n      <td>F</td>\n      <td>2120-10-31 00:00:00</td>\n    </tr>\n    <tr>\n      <th>1</th>\n      <td>200001</td>\n      <td>152234</td>\n      <td>55973</td>\n      <td>2181-11-25 19:06:12</td>\n      <td>2181-11-28 20:59:25</td>\n      <td>2181-11-24 20:06:12</td>\n      <td>2181-11-24 21:06:12</td>\n      <td>-23.0</td>\n      <td>0.0</td>\n      <td>F</td>\n      <td>2120-10-31 00:00:00</td>\n    </tr>\n    <tr>\n      <th>2</th>\n      <td>200001</td>\n      <td>152234</td>\n      <td>55973</td>\n      <td>2181-11-25 19:06:12</td>\n      <td>2181-11-28 20:59:25</td>\n      <td>2181-11-24 21:06:12</td>\n      <td>2181-11-24 22:06:12</td>\n      <td>-22.0</td>\n      <td>0.0</td>\n      <td>F</td>\n      <td>2120-10-31 00:00:00</td>\n    </tr>\n    <tr>\n      <th>3</th>\n      <td>200001</td>\n      <td>152234</td>\n      <td>55973</td>\n      <td>2181-11-25 19:06:12</td>\n      <td>2181-11-28 20:59:25</td>\n      <td>2181-11-24 22:06:12</td>\n      <td>2181-11-24 23:06:12</td>\n      <td>-21.0</td>\n      <td>0.0</td>\n      <td>F</td>\n      <td>2120-10-31 00:00:00</td>\n    </tr>\n    <tr>\n      <th>4</th>\n      <td>200001</td>\n      <td>152234</td>\n      <td>55973</td>\n      <td>2181-11-25 19:06:12</td>\n      <td>2181-11-28 20:59:25</td>\n      <td>2181-11-24 23:06:12</td>\n      <td>2181-11-25 00:06:12</td>\n      <td>-20.0</td>\n      <td>0.0</td>\n      <td>F</td>\n      <td>2120-10-31 00:00:00</td>\n    </tr>\n  </tbody>\n</table>\n</div>"
     },
     "metadata": {},
     "execution_count": 48
    }
   ],
   "source": [
    "# Merge pt_stay_hr and patients to master table on subject_id\n",
    "\n",
    "master = pd.merge(pt_stay_hr, patients, on='subject_id')\n",
    "master.head()\n",
    "# intime + outtime = ICU in and out times\n",
    "# hr starts from -24 = 24 hrs before admission\n",
    "# dy days in ICU\n",
    "# starttime and endtime = start and end of each hr interval"
   ]
  },
  {
   "cell_type": "code",
   "execution_count": 49,
   "metadata": {},
   "outputs": [
    {
     "output_type": "execute_result",
     "data": {
      "text/plain": [
       "   row_id  subject_id                  dob  hadm_id            admittime  \\\n",
       "0       1           2  2138-07-17 00:00:00   163353  2138-07-17 19:04:00   \n",
       "1       2           3  2025-04-11 00:00:00   145834  2101-10-20 19:08:00   \n",
       "2       3           4  2143-05-12 00:00:00   185777  2191-03-16 00:28:00   \n",
       "3       4           5  2103-02-02 00:00:00   178980  2103-02-02 04:31:00   \n",
       "4       5           6  2109-06-21 00:00:00   107064  2175-05-30 07:15:00   \n",
       "\n",
       "             dischtime  icustay_id  age_years               intime  \\\n",
       "0  2138-07-21 15:48:00      243653        0.0  2138-07-17 21:20:07   \n",
       "1  2101-10-31 13:58:00      211552       76.0  2101-10-20 19:10:11   \n",
       "2  2191-03-23 18:41:00      294638       47.0  2191-03-16 00:29:31   \n",
       "3  2103-02-04 12:15:00      214757        0.0  2103-02-02 06:04:24   \n",
       "4  2175-06-15 16:00:00      228232       65.0  2175-05-30 21:30:54   \n",
       "\n",
       "               outtime     los hosp_deathtime  icu_expire_flag  \\\n",
       "0  2138-07-17 23:32:21  0.0918            NaN                0   \n",
       "1  2101-10-26 20:43:09  6.0646            NaN                0   \n",
       "2  2191-03-17 16:46:31  1.6785            NaN                0   \n",
       "3  2103-02-02 08:06:00  0.0844            NaN                0   \n",
       "4  2175-06-03 13:39:54  3.6729            NaN                0   \n",
       "\n",
       "   hospital_expire_flag                  dod  expire_flag  ttd_days  \n",
       "0                   0.0                  NaN            0       NaN  \n",
       "1                   0.0  2102-06-14 00:00:00            1     236.0  \n",
       "2                   0.0                  NaN            0       NaN  \n",
       "3                   0.0                  NaN            0       NaN  \n",
       "4                   0.0                  NaN            0       NaN  "
      ],
      "text/html": "<div>\n<style scoped>\n    .dataframe tbody tr th:only-of-type {\n        vertical-align: middle;\n    }\n\n    .dataframe tbody tr th {\n        vertical-align: top;\n    }\n\n    .dataframe thead th {\n        text-align: right;\n    }\n</style>\n<table border=\"1\" class=\"dataframe\">\n  <thead>\n    <tr style=\"text-align: right;\">\n      <th></th>\n      <th>row_id</th>\n      <th>subject_id</th>\n      <th>dob</th>\n      <th>hadm_id</th>\n      <th>admittime</th>\n      <th>dischtime</th>\n      <th>icustay_id</th>\n      <th>age_years</th>\n      <th>intime</th>\n      <th>outtime</th>\n      <th>los</th>\n      <th>hosp_deathtime</th>\n      <th>icu_expire_flag</th>\n      <th>hospital_expire_flag</th>\n      <th>dod</th>\n      <th>expire_flag</th>\n      <th>ttd_days</th>\n    </tr>\n  </thead>\n  <tbody>\n    <tr>\n      <th>0</th>\n      <td>1</td>\n      <td>2</td>\n      <td>2138-07-17 00:00:00</td>\n      <td>163353</td>\n      <td>2138-07-17 19:04:00</td>\n      <td>2138-07-21 15:48:00</td>\n      <td>243653</td>\n      <td>0.0</td>\n      <td>2138-07-17 21:20:07</td>\n      <td>2138-07-17 23:32:21</td>\n      <td>0.0918</td>\n      <td>NaN</td>\n      <td>0</td>\n      <td>0.0</td>\n      <td>NaN</td>\n      <td>0</td>\n      <td>NaN</td>\n    </tr>\n    <tr>\n      <th>1</th>\n      <td>2</td>\n      <td>3</td>\n      <td>2025-04-11 00:00:00</td>\n      <td>145834</td>\n      <td>2101-10-20 19:08:00</td>\n      <td>2101-10-31 13:58:00</td>\n      <td>211552</td>\n      <td>76.0</td>\n      <td>2101-10-20 19:10:11</td>\n      <td>2101-10-26 20:43:09</td>\n      <td>6.0646</td>\n      <td>NaN</td>\n      <td>0</td>\n      <td>0.0</td>\n      <td>2102-06-14 00:00:00</td>\n      <td>1</td>\n      <td>236.0</td>\n    </tr>\n    <tr>\n      <th>2</th>\n      <td>3</td>\n      <td>4</td>\n      <td>2143-05-12 00:00:00</td>\n      <td>185777</td>\n      <td>2191-03-16 00:28:00</td>\n      <td>2191-03-23 18:41:00</td>\n      <td>294638</td>\n      <td>47.0</td>\n      <td>2191-03-16 00:29:31</td>\n      <td>2191-03-17 16:46:31</td>\n      <td>1.6785</td>\n      <td>NaN</td>\n      <td>0</td>\n      <td>0.0</td>\n      <td>NaN</td>\n      <td>0</td>\n      <td>NaN</td>\n    </tr>\n    <tr>\n      <th>3</th>\n      <td>4</td>\n      <td>5</td>\n      <td>2103-02-02 00:00:00</td>\n      <td>178980</td>\n      <td>2103-02-02 04:31:00</td>\n      <td>2103-02-04 12:15:00</td>\n      <td>214757</td>\n      <td>0.0</td>\n      <td>2103-02-02 06:04:24</td>\n      <td>2103-02-02 08:06:00</td>\n      <td>0.0844</td>\n      <td>NaN</td>\n      <td>0</td>\n      <td>0.0</td>\n      <td>NaN</td>\n      <td>0</td>\n      <td>NaN</td>\n    </tr>\n    <tr>\n      <th>4</th>\n      <td>5</td>\n      <td>6</td>\n      <td>2109-06-21 00:00:00</td>\n      <td>107064</td>\n      <td>2175-05-30 07:15:00</td>\n      <td>2175-06-15 16:00:00</td>\n      <td>228232</td>\n      <td>65.0</td>\n      <td>2175-05-30 21:30:54</td>\n      <td>2175-06-03 13:39:54</td>\n      <td>3.6729</td>\n      <td>NaN</td>\n      <td>0</td>\n      <td>0.0</td>\n      <td>NaN</td>\n      <td>0</td>\n      <td>NaN</td>\n    </tr>\n  </tbody>\n</table>\n</div>"
     },
     "metadata": {},
     "execution_count": 49
    }
   ],
   "source": [
    "# Load pt_icu_outcome dataset\n",
    "pt_icu_outcome = pd.read_csv('mimic_data/pt_icu_outcome.csv')\n",
    "pt_icu_outcome.head()"
   ]
  },
  {
   "cell_type": "code",
   "execution_count": 50,
   "metadata": {},
   "outputs": [
    {
     "output_type": "execute_result",
     "data": {
      "text/plain": [
       "   icustay_id  age_years     los  icu_expire_flag  ttd_days\n",
       "0      243653        0.0  0.0918                0       NaN\n",
       "1      211552       76.0  6.0646                0     236.0\n",
       "2      294638       47.0  1.6785                0       NaN\n",
       "3      214757        0.0  0.0844                0       NaN\n",
       "4      228232       65.0  3.6729                0       NaN"
      ],
      "text/html": "<div>\n<style scoped>\n    .dataframe tbody tr th:only-of-type {\n        vertical-align: middle;\n    }\n\n    .dataframe tbody tr th {\n        vertical-align: top;\n    }\n\n    .dataframe thead th {\n        text-align: right;\n    }\n</style>\n<table border=\"1\" class=\"dataframe\">\n  <thead>\n    <tr style=\"text-align: right;\">\n      <th></th>\n      <th>icustay_id</th>\n      <th>age_years</th>\n      <th>los</th>\n      <th>icu_expire_flag</th>\n      <th>ttd_days</th>\n    </tr>\n  </thead>\n  <tbody>\n    <tr>\n      <th>0</th>\n      <td>243653</td>\n      <td>0.0</td>\n      <td>0.0918</td>\n      <td>0</td>\n      <td>NaN</td>\n    </tr>\n    <tr>\n      <th>1</th>\n      <td>211552</td>\n      <td>76.0</td>\n      <td>6.0646</td>\n      <td>0</td>\n      <td>236.0</td>\n    </tr>\n    <tr>\n      <th>2</th>\n      <td>294638</td>\n      <td>47.0</td>\n      <td>1.6785</td>\n      <td>0</td>\n      <td>NaN</td>\n    </tr>\n    <tr>\n      <th>3</th>\n      <td>214757</td>\n      <td>0.0</td>\n      <td>0.0844</td>\n      <td>0</td>\n      <td>NaN</td>\n    </tr>\n    <tr>\n      <th>4</th>\n      <td>228232</td>\n      <td>65.0</td>\n      <td>3.6729</td>\n      <td>0</td>\n      <td>NaN</td>\n    </tr>\n  </tbody>\n</table>\n</div>"
     },
     "metadata": {},
     "execution_count": 50
    }
   ],
   "source": [
    "# Selecting only columns of interest from pt_icu\n",
    "pt_icu_outcome = pt_icu_outcome[['icustay_id','age_years','los','icu_expire_flag', 'ttd_days']]\n",
    "pt_icu_outcome.head()"
   ]
  },
  {
   "cell_type": "code",
   "execution_count": 51,
   "metadata": {},
   "outputs": [
    {
     "output_type": "execute_result",
     "data": {
      "text/plain": [
       "   icustay_id  hadm_id  subject_id               intime              outtime  \\\n",
       "0      200001   152234       55973  2181-11-25 19:06:12  2181-11-28 20:59:25   \n",
       "1      200001   152234       55973  2181-11-25 19:06:12  2181-11-28 20:59:25   \n",
       "2      200001   152234       55973  2181-11-25 19:06:12  2181-11-28 20:59:25   \n",
       "3      200001   152234       55973  2181-11-25 19:06:12  2181-11-28 20:59:25   \n",
       "4      200001   152234       55973  2181-11-25 19:06:12  2181-11-28 20:59:25   \n",
       "\n",
       "             starttime              endtime    hr   dy gender  \\\n",
       "0  2181-11-24 19:06:12  2181-11-24 20:06:12 -24.0  0.0      F   \n",
       "1  2181-11-24 20:06:12  2181-11-24 21:06:12 -23.0  0.0      F   \n",
       "2  2181-11-24 21:06:12  2181-11-24 22:06:12 -22.0  0.0      F   \n",
       "3  2181-11-24 22:06:12  2181-11-24 23:06:12 -21.0  0.0      F   \n",
       "4  2181-11-24 23:06:12  2181-11-25 00:06:12 -20.0  0.0      F   \n",
       "\n",
       "                   dob  age_years     los  icu_expire_flag  ttd_days  \n",
       "0  2120-10-31 00:00:00       61.0  3.0786                0     365.0  \n",
       "1  2120-10-31 00:00:00       61.0  3.0786                0     365.0  \n",
       "2  2120-10-31 00:00:00       61.0  3.0786                0     365.0  \n",
       "3  2120-10-31 00:00:00       61.0  3.0786                0     365.0  \n",
       "4  2120-10-31 00:00:00       61.0  3.0786                0     365.0  "
      ],
      "text/html": "<div>\n<style scoped>\n    .dataframe tbody tr th:only-of-type {\n        vertical-align: middle;\n    }\n\n    .dataframe tbody tr th {\n        vertical-align: top;\n    }\n\n    .dataframe thead th {\n        text-align: right;\n    }\n</style>\n<table border=\"1\" class=\"dataframe\">\n  <thead>\n    <tr style=\"text-align: right;\">\n      <th></th>\n      <th>icustay_id</th>\n      <th>hadm_id</th>\n      <th>subject_id</th>\n      <th>intime</th>\n      <th>outtime</th>\n      <th>starttime</th>\n      <th>endtime</th>\n      <th>hr</th>\n      <th>dy</th>\n      <th>gender</th>\n      <th>dob</th>\n      <th>age_years</th>\n      <th>los</th>\n      <th>icu_expire_flag</th>\n      <th>ttd_days</th>\n    </tr>\n  </thead>\n  <tbody>\n    <tr>\n      <th>0</th>\n      <td>200001</td>\n      <td>152234</td>\n      <td>55973</td>\n      <td>2181-11-25 19:06:12</td>\n      <td>2181-11-28 20:59:25</td>\n      <td>2181-11-24 19:06:12</td>\n      <td>2181-11-24 20:06:12</td>\n      <td>-24.0</td>\n      <td>0.0</td>\n      <td>F</td>\n      <td>2120-10-31 00:00:00</td>\n      <td>61.0</td>\n      <td>3.0786</td>\n      <td>0</td>\n      <td>365.0</td>\n    </tr>\n    <tr>\n      <th>1</th>\n      <td>200001</td>\n      <td>152234</td>\n      <td>55973</td>\n      <td>2181-11-25 19:06:12</td>\n      <td>2181-11-28 20:59:25</td>\n      <td>2181-11-24 20:06:12</td>\n      <td>2181-11-24 21:06:12</td>\n      <td>-23.0</td>\n      <td>0.0</td>\n      <td>F</td>\n      <td>2120-10-31 00:00:00</td>\n      <td>61.0</td>\n      <td>3.0786</td>\n      <td>0</td>\n      <td>365.0</td>\n    </tr>\n    <tr>\n      <th>2</th>\n      <td>200001</td>\n      <td>152234</td>\n      <td>55973</td>\n      <td>2181-11-25 19:06:12</td>\n      <td>2181-11-28 20:59:25</td>\n      <td>2181-11-24 21:06:12</td>\n      <td>2181-11-24 22:06:12</td>\n      <td>-22.0</td>\n      <td>0.0</td>\n      <td>F</td>\n      <td>2120-10-31 00:00:00</td>\n      <td>61.0</td>\n      <td>3.0786</td>\n      <td>0</td>\n      <td>365.0</td>\n    </tr>\n    <tr>\n      <th>3</th>\n      <td>200001</td>\n      <td>152234</td>\n      <td>55973</td>\n      <td>2181-11-25 19:06:12</td>\n      <td>2181-11-28 20:59:25</td>\n      <td>2181-11-24 22:06:12</td>\n      <td>2181-11-24 23:06:12</td>\n      <td>-21.0</td>\n      <td>0.0</td>\n      <td>F</td>\n      <td>2120-10-31 00:00:00</td>\n      <td>61.0</td>\n      <td>3.0786</td>\n      <td>0</td>\n      <td>365.0</td>\n    </tr>\n    <tr>\n      <th>4</th>\n      <td>200001</td>\n      <td>152234</td>\n      <td>55973</td>\n      <td>2181-11-25 19:06:12</td>\n      <td>2181-11-28 20:59:25</td>\n      <td>2181-11-24 23:06:12</td>\n      <td>2181-11-25 00:06:12</td>\n      <td>-20.0</td>\n      <td>0.0</td>\n      <td>F</td>\n      <td>2120-10-31 00:00:00</td>\n      <td>61.0</td>\n      <td>3.0786</td>\n      <td>0</td>\n      <td>365.0</td>\n    </tr>\n  </tbody>\n</table>\n</div>"
     },
     "metadata": {},
     "execution_count": 51
    }
   ],
   "source": [
    "# Left join the master table with our selected variables from pt_icu_outcome on the icustay_id\n",
    "master = pd.merge(master, pt_icu_outcome, on='icustay_id', how='left')\n",
    "master.head()"
   ]
  },
  {
   "cell_type": "code",
   "execution_count": null,
   "metadata": {},
   "outputs": [],
   "source": []
  }
 ]
}